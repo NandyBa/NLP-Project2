{
 "cells": [
  {
   "cell_type": "code",
   "execution_count": 84,
   "id": "b8e81359",
   "metadata": {},
   "outputs": [],
   "source": [
    "import pandas as pd\n",
    "import numpy as np\n",
    "import matplotlib.pyplot as plt\n",
    "\n",
    "# Model classifiers\n",
    "from sklearn.svm import SVC\n",
    "from sklearn.linear_model import LogisticRegression\n",
    "from sklearn.ensemble import GradientBoostingClassifier\n",
    "from sklearn.ensemble import RandomForestClassifier\n",
    "\n",
    "# Cross validation\n",
    "from sklearn.model_selection import learning_curve\n",
    "\n",
    "# Pipeline\n",
    "from sklearn.pipeline import make_pipeline, Pipeline\n",
    "from sklearn.compose import make_column_selector, make_column_transformer, ColumnTransformer\n",
    "from sklearn.preprocessing import StandardScaler, OneHotEncoder\n",
    "from sklearn.model_selection import train_test_split\n",
    "from sklearn.preprocessing import FunctionTransformer\n",
    "\n",
    "# Scoring\n",
    "from sklearn.metrics import accuracy_score, recall_score, f1_score\n",
    "\n",
    "# Tuning et overfitting\n",
    "from sklearn.model_selection import validation_curve\n",
    "\n",
    "# Rapport de classification\n",
    "from sklearn.metrics import classification_report\n",
    "\n",
    "# Addons\n",
    "from sklearn.metrics import confusion_matrix\n",
    "from matplotlib.colors import ListedColormap\n",
    "\n",
    "# Config\n",
    "from sklearn import set_config\n",
    "set_config(display=\"diagram\") # To show our model diagrams "
   ]
  },
  {
   "cell_type": "code",
   "execution_count": 3,
   "id": "118f602a",
   "metadata": {},
   "outputs": [],
   "source": [
    "df = pd.read_csv('avisassurance_train.csv', sep=';')"
   ]
  },
  {
   "cell_type": "code",
   "execution_count": 4,
   "id": "517adde8",
   "metadata": {},
   "outputs": [],
   "source": [
    "data = df.copy()"
   ]
  },
  {
   "cell_type": "code",
   "execution_count": 5,
   "id": "25d3c825",
   "metadata": {},
   "outputs": [
    {
     "data": {
      "text/html": [
       "<div>\n",
       "<style scoped>\n",
       "    .dataframe tbody tr th:only-of-type {\n",
       "        vertical-align: middle;\n",
       "    }\n",
       "\n",
       "    .dataframe tbody tr th {\n",
       "        vertical-align: top;\n",
       "    }\n",
       "\n",
       "    .dataframe thead th {\n",
       "        text-align: right;\n",
       "    }\n",
       "</style>\n",
       "<table border=\"1\" class=\"dataframe\">\n",
       "  <thead>\n",
       "    <tr style=\"text-align: right;\">\n",
       "      <th></th>\n",
       "      <th>date</th>\n",
       "      <th>note</th>\n",
       "      <th>auteur</th>\n",
       "      <th>avis</th>\n",
       "      <th>assureur</th>\n",
       "      <th>produit</th>\n",
       "    </tr>\n",
       "  </thead>\n",
       "  <tbody>\n",
       "    <tr>\n",
       "      <th>0</th>\n",
       "      <td>06 septem...</td>\n",
       "      <td>5</td>\n",
       "      <td>brahim--k-131532</td>\n",
       "      <td>Meilleurs assurances, prix, solutions, écoute,...</td>\n",
       "      <td>Direct Assurance</td>\n",
       "      <td>auto</td>\n",
       "    </tr>\n",
       "    <tr>\n",
       "      <th>1</th>\n",
       "      <td>03 mai 20...</td>\n",
       "      <td>4</td>\n",
       "      <td>bernard-g-112497</td>\n",
       "      <td>je suis globalement satisfait , sauf que vous ...</td>\n",
       "      <td>Direct Assurance</td>\n",
       "      <td>auto</td>\n",
       "    </tr>\n",
       "    <tr>\n",
       "      <th>2</th>\n",
       "      <td>21 mars 2...</td>\n",
       "      <td>5</td>\n",
       "      <td>virginie-t-107352</td>\n",
       "      <td>Prix tres abordable plusieurs options s'offren...</td>\n",
       "      <td>Direct Assurance</td>\n",
       "      <td>auto</td>\n",
       "    </tr>\n",
       "    <tr>\n",
       "      <th>3</th>\n",
       "      <td>10 juin 2...</td>\n",
       "      <td>4</td>\n",
       "      <td>boulain-f-116580</td>\n",
       "      <td>je satisfait du service, une réponse très rapi...</td>\n",
       "      <td>L'olivier Assurance</td>\n",
       "      <td>auto</td>\n",
       "    </tr>\n",
       "    <tr>\n",
       "      <th>4</th>\n",
       "      <td>29 janvie...</td>\n",
       "      <td>1</td>\n",
       "      <td>ouaille31-51798</td>\n",
       "      <td>Client depuis plus de 25 ans, très déçu de cet...</td>\n",
       "      <td>Matmut</td>\n",
       "      <td>auto</td>\n",
       "    </tr>\n",
       "    <tr>\n",
       "      <th>...</th>\n",
       "      <td>...</td>\n",
       "      <td>...</td>\n",
       "      <td>...</td>\n",
       "      <td>...</td>\n",
       "      <td>...</td>\n",
       "      <td>...</td>\n",
       "    </tr>\n",
       "    <tr>\n",
       "      <th>24100</th>\n",
       "      <td>22 mars 2...</td>\n",
       "      <td>1</td>\n",
       "      <td>hophop-107522</td>\n",
       "      <td>Assurance moto chez la mutuel des motards en F...</td>\n",
       "      <td>Mutuelle des Motards</td>\n",
       "      <td>moto</td>\n",
       "    </tr>\n",
       "    <tr>\n",
       "      <th>24101</th>\n",
       "      <td>06 décemb...</td>\n",
       "      <td>1</td>\n",
       "      <td>tzl-81680</td>\n",
       "      <td>Même les demandes les plus simples n'aboutisse...</td>\n",
       "      <td>Allianz</td>\n",
       "      <td>habitation</td>\n",
       "    </tr>\n",
       "    <tr>\n",
       "      <th>24102</th>\n",
       "      <td>14 avril ...</td>\n",
       "      <td>1</td>\n",
       "      <td>jmr-72500-110395</td>\n",
       "      <td>En décembre 2019, j'ai souscrit à un contrat C...</td>\n",
       "      <td>Cegema Assurances</td>\n",
       "      <td>sante</td>\n",
       "    </tr>\n",
       "    <tr>\n",
       "      <th>24103</th>\n",
       "      <td>11 juille...</td>\n",
       "      <td>3</td>\n",
       "      <td>cris-77532</td>\n",
       "      <td>Je suis assurer à la gmf depuis plus de 15 ans...</td>\n",
       "      <td>GMF</td>\n",
       "      <td>auto</td>\n",
       "    </tr>\n",
       "    <tr>\n",
       "      <th>24104</th>\n",
       "      <td>19 janvie...</td>\n",
       "      <td>1</td>\n",
       "      <td>jesse-51459</td>\n",
       "      <td>Bonjour\\r\\nMon ami vient de se faire voler sa ...</td>\n",
       "      <td>AMV</td>\n",
       "      <td>moto</td>\n",
       "    </tr>\n",
       "  </tbody>\n",
       "</table>\n",
       "<p>24105 rows × 6 columns</p>\n",
       "</div>"
      ],
      "text/plain": [
       "                                                    date  note  \\\n",
       "0                                           06 septem...     5   \n",
       "1                                           03 mai 20...     4   \n",
       "2                                           21 mars 2...     5   \n",
       "3                                           10 juin 2...     4   \n",
       "4                                           29 janvie...     1   \n",
       "...                                                  ...   ...   \n",
       "24100                                       22 mars 2...     1   \n",
       "24101                                       06 décemb...     1   \n",
       "24102                                       14 avril ...     1   \n",
       "24103                                       11 juille...     3   \n",
       "24104                                       19 janvie...     1   \n",
       "\n",
       "                  auteur                                               avis  \\\n",
       "0       brahim--k-131532  Meilleurs assurances, prix, solutions, écoute,...   \n",
       "1       bernard-g-112497  je suis globalement satisfait , sauf que vous ...   \n",
       "2      virginie-t-107352  Prix tres abordable plusieurs options s'offren...   \n",
       "3       boulain-f-116580  je satisfait du service, une réponse très rapi...   \n",
       "4        ouaille31-51798  Client depuis plus de 25 ans, très déçu de cet...   \n",
       "...                  ...                                                ...   \n",
       "24100      hophop-107522  Assurance moto chez la mutuel des motards en F...   \n",
       "24101          tzl-81680  Même les demandes les plus simples n'aboutisse...   \n",
       "24102   jmr-72500-110395  En décembre 2019, j'ai souscrit à un contrat C...   \n",
       "24103         cris-77532  Je suis assurer à la gmf depuis plus de 15 ans...   \n",
       "24104        jesse-51459  Bonjour\\r\\nMon ami vient de se faire voler sa ...   \n",
       "\n",
       "                   assureur     produit  \n",
       "0          Direct Assurance        auto  \n",
       "1          Direct Assurance        auto  \n",
       "2          Direct Assurance        auto  \n",
       "3       L'olivier Assurance        auto  \n",
       "4                    Matmut        auto  \n",
       "...                     ...         ...  \n",
       "24100  Mutuelle des Motards        moto  \n",
       "24101               Allianz  habitation  \n",
       "24102     Cegema Assurances       sante  \n",
       "24103                   GMF        auto  \n",
       "24104                   AMV        moto  \n",
       "\n",
       "[24105 rows x 6 columns]"
      ]
     },
     "execution_count": 5,
     "metadata": {},
     "output_type": "execute_result"
    }
   ],
   "source": [
    "data"
   ]
  },
  {
   "cell_type": "code",
   "execution_count": 6,
   "id": "51a0df8e",
   "metadata": {},
   "outputs": [
    {
     "data": {
      "text/plain": [
       "Index(['date', 'note', 'auteur', 'avis', 'assureur', 'produit'], dtype='object')"
      ]
     },
     "execution_count": 6,
     "metadata": {},
     "output_type": "execute_result"
    }
   ],
   "source": [
    "data.columns"
   ]
  },
  {
   "cell_type": "code",
   "execution_count": 7,
   "id": "d34c6683",
   "metadata": {},
   "outputs": [
    {
     "data": {
      "text/plain": [
       "date        object\n",
       "note         int64\n",
       "auteur      object\n",
       "avis        object\n",
       "assureur    object\n",
       "produit     object\n",
       "dtype: object"
      ]
     },
     "execution_count": 7,
     "metadata": {},
     "output_type": "execute_result"
    }
   ],
   "source": [
    "data.dtypes"
   ]
  },
  {
   "cell_type": "code",
   "execution_count": 8,
   "id": "2d5914d9",
   "metadata": {},
   "outputs": [],
   "source": [
    "for col in ['date','avis']:\n",
    "    data[col] = data[col].astype('string')"
   ]
  },
  {
   "cell_type": "code",
   "execution_count": 9,
   "id": "630eb9e4",
   "metadata": {},
   "outputs": [],
   "source": [
    "for col in ['auteur', 'assureur', 'produit']:\n",
    "    data[col] = data[col].astype('category')"
   ]
  },
  {
   "cell_type": "code",
   "execution_count": 10,
   "id": "9c8a1277",
   "metadata": {
    "scrolled": false
   },
   "outputs": [
    {
     "data": {
      "text/plain": [
       "date          string\n",
       "note           int64\n",
       "auteur      category\n",
       "avis          string\n",
       "assureur    category\n",
       "produit     category\n",
       "dtype: object"
      ]
     },
     "execution_count": 10,
     "metadata": {},
     "output_type": "execute_result"
    }
   ],
   "source": [
    "data.dtypes"
   ]
  },
  {
   "cell_type": "code",
   "execution_count": 11,
   "id": "a2306050",
   "metadata": {},
   "outputs": [],
   "source": [
    "X = data.copy().drop(['note','avis'], axis=1)\n",
    "y = data.note.copy()"
   ]
  },
  {
   "cell_type": "code",
   "execution_count": 12,
   "id": "3705d38e",
   "metadata": {},
   "outputs": [],
   "source": [
    "X_train, X_test, y_train, y_test = train_test_split(X, y, test_size=0.3, random_state=24)"
   ]
  },
  {
   "cell_type": "code",
   "execution_count": 13,
   "id": "82ab4697",
   "metadata": {},
   "outputs": [],
   "source": [
    "categorical_pipeline = Pipeline(steps=[( 'onehot',OneHotEncoder(handle_unknown = 'ignore'))])"
   ]
  },
  {
   "cell_type": "code",
   "execution_count": 15,
   "id": "5efd5657",
   "metadata": {},
   "outputs": [],
   "source": [
    "categorical_features =  data.select_dtypes(include=['category']).columns"
   ]
  },
  {
   "cell_type": "code",
   "execution_count": 16,
   "id": "d012c684",
   "metadata": {},
   "outputs": [],
   "source": [
    "preprocessor = ColumnTransformer(\n",
    "    transformers=[\n",
    "                    ('cat', categorical_pipeline, categorical_features)\n",
    "    ])"
   ]
  },
  {
   "cell_type": "code",
   "execution_count": 57,
   "id": "cb800177",
   "metadata": {},
   "outputs": [],
   "source": [
    "SVC_model = Pipeline(steps=[\n",
    "        ('preprocessor', preprocessor),\n",
    "        ('svc', SVC())\n",
    "    ])\n",
    "\n",
    "RFC_model = Pipeline(steps=[\n",
    "        ('preprocessor', preprocessor),\n",
    "        ('rfc', RandomForestClassifier())\n",
    "    ])\n",
    "\n",
    "GBC_model = Pipeline(steps=[\n",
    "        ('preprocessor', preprocessor),\n",
    "        ('gbc', GradientBoostingClassifier())\n",
    "    ])"
   ]
  },
  {
   "cell_type": "code",
   "execution_count": 58,
   "id": "acfc1e7a",
   "metadata": {},
   "outputs": [],
   "source": [
    "fitted_SVC_model = SVC_model.fit(X_train, y_train)\n",
    "fitted_RFC_model = RFC_model.fit(X_train, y_train)\n",
    "fitted_GBC_model = GBC_model.fit(X_train, y_train)"
   ]
  },
  {
   "cell_type": "code",
   "execution_count": 59,
   "id": "3d54cb3f",
   "metadata": {},
   "outputs": [
    {
     "data": {
      "text/html": [
       "<style>#sk-894fb1de-920d-48d4-93d3-cb5f49ae2302 {color: black;background-color: white;}#sk-894fb1de-920d-48d4-93d3-cb5f49ae2302 pre{padding: 0;}#sk-894fb1de-920d-48d4-93d3-cb5f49ae2302 div.sk-toggleable {background-color: white;}#sk-894fb1de-920d-48d4-93d3-cb5f49ae2302 label.sk-toggleable__label {cursor: pointer;display: block;width: 100%;margin-bottom: 0;padding: 0.3em;box-sizing: border-box;text-align: center;}#sk-894fb1de-920d-48d4-93d3-cb5f49ae2302 div.sk-toggleable__content {max-height: 0;max-width: 0;overflow: hidden;text-align: left;background-color: #f0f8ff;}#sk-894fb1de-920d-48d4-93d3-cb5f49ae2302 div.sk-toggleable__content pre {margin: 0.2em;color: black;border-radius: 0.25em;background-color: #f0f8ff;}#sk-894fb1de-920d-48d4-93d3-cb5f49ae2302 input.sk-toggleable__control:checked~div.sk-toggleable__content {max-height: 200px;max-width: 100%;overflow: auto;}#sk-894fb1de-920d-48d4-93d3-cb5f49ae2302 div.sk-estimator input.sk-toggleable__control:checked~label.sk-toggleable__label {background-color: #d4ebff;}#sk-894fb1de-920d-48d4-93d3-cb5f49ae2302 div.sk-label input.sk-toggleable__control:checked~label.sk-toggleable__label {background-color: #d4ebff;}#sk-894fb1de-920d-48d4-93d3-cb5f49ae2302 input.sk-hidden--visually {border: 0;clip: rect(1px 1px 1px 1px);clip: rect(1px, 1px, 1px, 1px);height: 1px;margin: -1px;overflow: hidden;padding: 0;position: absolute;width: 1px;}#sk-894fb1de-920d-48d4-93d3-cb5f49ae2302 div.sk-estimator {font-family: monospace;background-color: #f0f8ff;border: 1px dotted black;border-radius: 0.25em;box-sizing: border-box;margin-bottom: 0.5em;}#sk-894fb1de-920d-48d4-93d3-cb5f49ae2302 div.sk-estimator:hover {background-color: #d4ebff;}#sk-894fb1de-920d-48d4-93d3-cb5f49ae2302 div.sk-parallel-item::after {content: \"\";width: 100%;border-bottom: 1px solid gray;flex-grow: 1;}#sk-894fb1de-920d-48d4-93d3-cb5f49ae2302 div.sk-label:hover label.sk-toggleable__label {background-color: #d4ebff;}#sk-894fb1de-920d-48d4-93d3-cb5f49ae2302 div.sk-serial::before {content: \"\";position: absolute;border-left: 1px solid gray;box-sizing: border-box;top: 2em;bottom: 0;left: 50%;}#sk-894fb1de-920d-48d4-93d3-cb5f49ae2302 div.sk-serial {display: flex;flex-direction: column;align-items: center;background-color: white;padding-right: 0.2em;padding-left: 0.2em;}#sk-894fb1de-920d-48d4-93d3-cb5f49ae2302 div.sk-item {z-index: 1;}#sk-894fb1de-920d-48d4-93d3-cb5f49ae2302 div.sk-parallel {display: flex;align-items: stretch;justify-content: center;background-color: white;}#sk-894fb1de-920d-48d4-93d3-cb5f49ae2302 div.sk-parallel::before {content: \"\";position: absolute;border-left: 1px solid gray;box-sizing: border-box;top: 2em;bottom: 0;left: 50%;}#sk-894fb1de-920d-48d4-93d3-cb5f49ae2302 div.sk-parallel-item {display: flex;flex-direction: column;position: relative;background-color: white;}#sk-894fb1de-920d-48d4-93d3-cb5f49ae2302 div.sk-parallel-item:first-child::after {align-self: flex-end;width: 50%;}#sk-894fb1de-920d-48d4-93d3-cb5f49ae2302 div.sk-parallel-item:last-child::after {align-self: flex-start;width: 50%;}#sk-894fb1de-920d-48d4-93d3-cb5f49ae2302 div.sk-parallel-item:only-child::after {width: 0;}#sk-894fb1de-920d-48d4-93d3-cb5f49ae2302 div.sk-dashed-wrapped {border: 1px dashed gray;margin: 0 0.4em 0.5em 0.4em;box-sizing: border-box;padding-bottom: 0.4em;background-color: white;position: relative;}#sk-894fb1de-920d-48d4-93d3-cb5f49ae2302 div.sk-label label {font-family: monospace;font-weight: bold;background-color: white;display: inline-block;line-height: 1.2em;}#sk-894fb1de-920d-48d4-93d3-cb5f49ae2302 div.sk-label-container {position: relative;z-index: 2;text-align: center;}#sk-894fb1de-920d-48d4-93d3-cb5f49ae2302 div.sk-container {display: inline-block;position: relative;}</style><div id=\"sk-894fb1de-920d-48d4-93d3-cb5f49ae2302\" class\"sk-top-container\"><div class=\"sk-container\"><div class=\"sk-item sk-dashed-wrapped\"><div class=\"sk-label-container\"><div class=\"sk-label sk-toggleable\"><input class=\"sk-toggleable__control sk-hidden--visually\" id=\"cd60cd3b-30ca-4c14-afed-e5b54a5c7cac\" type=\"checkbox\" ><label class=\"sk-toggleable__label\" for=\"cd60cd3b-30ca-4c14-afed-e5b54a5c7cac\">Pipeline</label><div class=\"sk-toggleable__content\"><pre>Pipeline(steps=[('preprocessor',\n",
       "                 ColumnTransformer(transformers=[('cat',\n",
       "                                                  Pipeline(steps=[('onehot',\n",
       "                                                                   OneHotEncoder(handle_unknown='ignore'))]),\n",
       "                                                  Index(['auteur', 'assureur', 'produit'], dtype='object'))])),\n",
       "                ('svc', SVC())])</pre></div></div></div><div class=\"sk-serial\"><div class=\"sk-item sk-dashed-wrapped\"><div class=\"sk-label-container\"><div class=\"sk-label sk-toggleable\"><input class=\"sk-toggleable__control sk-hidden--visually\" id=\"f22a2d42-8b91-4f0d-b423-77a60608d27d\" type=\"checkbox\" ><label class=\"sk-toggleable__label\" for=\"f22a2d42-8b91-4f0d-b423-77a60608d27d\">preprocessor: ColumnTransformer</label><div class=\"sk-toggleable__content\"><pre>ColumnTransformer(transformers=[('cat',\n",
       "                                 Pipeline(steps=[('onehot',\n",
       "                                                  OneHotEncoder(handle_unknown='ignore'))]),\n",
       "                                 Index(['auteur', 'assureur', 'produit'], dtype='object'))])</pre></div></div></div><div class=\"sk-parallel\"><div class=\"sk-parallel-item\"><div class=\"sk-item\"><div class=\"sk-label-container\"><div class=\"sk-label sk-toggleable\"><input class=\"sk-toggleable__control sk-hidden--visually\" id=\"01aab00f-a7ca-4e1a-952e-e1bf2f3062d0\" type=\"checkbox\" ><label class=\"sk-toggleable__label\" for=\"01aab00f-a7ca-4e1a-952e-e1bf2f3062d0\">cat</label><div class=\"sk-toggleable__content\"><pre>Index(['auteur', 'assureur', 'produit'], dtype='object')</pre></div></div></div><div class=\"sk-serial\"><div class=\"sk-item\"><div class=\"sk-serial\"><div class=\"sk-item\"><div class=\"sk-estimator sk-toggleable\"><input class=\"sk-toggleable__control sk-hidden--visually\" id=\"87b6cad2-f4e8-49f6-8c7b-fe0391c00e1d\" type=\"checkbox\" ><label class=\"sk-toggleable__label\" for=\"87b6cad2-f4e8-49f6-8c7b-fe0391c00e1d\">OneHotEncoder</label><div class=\"sk-toggleable__content\"><pre>OneHotEncoder(handle_unknown='ignore')</pre></div></div></div></div></div></div></div></div></div></div><div class=\"sk-item\"><div class=\"sk-estimator sk-toggleable\"><input class=\"sk-toggleable__control sk-hidden--visually\" id=\"d6bebe92-f308-4236-8537-07051c179f92\" type=\"checkbox\" ><label class=\"sk-toggleable__label\" for=\"d6bebe92-f308-4236-8537-07051c179f92\">SVC</label><div class=\"sk-toggleable__content\"><pre>SVC()</pre></div></div></div></div></div></div></div>"
      ],
      "text/plain": [
       "Pipeline(steps=[('preprocessor',\n",
       "                 ColumnTransformer(transformers=[('cat',\n",
       "                                                  Pipeline(steps=[('onehot',\n",
       "                                                                   OneHotEncoder(handle_unknown='ignore'))]),\n",
       "                                                  Index(['auteur', 'assureur', 'produit'], dtype='object'))])),\n",
       "                ('svc', SVC())])"
      ]
     },
     "execution_count": 59,
     "metadata": {},
     "output_type": "execute_result"
    }
   ],
   "source": [
    "fitted_SVC_model"
   ]
  },
  {
   "cell_type": "code",
   "execution_count": 60,
   "id": "fba478b7",
   "metadata": {},
   "outputs": [
    {
     "data": {
      "text/html": [
       "<style>#sk-d088b45d-b6ce-407f-8ec4-ad042a310c35 {color: black;background-color: white;}#sk-d088b45d-b6ce-407f-8ec4-ad042a310c35 pre{padding: 0;}#sk-d088b45d-b6ce-407f-8ec4-ad042a310c35 div.sk-toggleable {background-color: white;}#sk-d088b45d-b6ce-407f-8ec4-ad042a310c35 label.sk-toggleable__label {cursor: pointer;display: block;width: 100%;margin-bottom: 0;padding: 0.3em;box-sizing: border-box;text-align: center;}#sk-d088b45d-b6ce-407f-8ec4-ad042a310c35 div.sk-toggleable__content {max-height: 0;max-width: 0;overflow: hidden;text-align: left;background-color: #f0f8ff;}#sk-d088b45d-b6ce-407f-8ec4-ad042a310c35 div.sk-toggleable__content pre {margin: 0.2em;color: black;border-radius: 0.25em;background-color: #f0f8ff;}#sk-d088b45d-b6ce-407f-8ec4-ad042a310c35 input.sk-toggleable__control:checked~div.sk-toggleable__content {max-height: 200px;max-width: 100%;overflow: auto;}#sk-d088b45d-b6ce-407f-8ec4-ad042a310c35 div.sk-estimator input.sk-toggleable__control:checked~label.sk-toggleable__label {background-color: #d4ebff;}#sk-d088b45d-b6ce-407f-8ec4-ad042a310c35 div.sk-label input.sk-toggleable__control:checked~label.sk-toggleable__label {background-color: #d4ebff;}#sk-d088b45d-b6ce-407f-8ec4-ad042a310c35 input.sk-hidden--visually {border: 0;clip: rect(1px 1px 1px 1px);clip: rect(1px, 1px, 1px, 1px);height: 1px;margin: -1px;overflow: hidden;padding: 0;position: absolute;width: 1px;}#sk-d088b45d-b6ce-407f-8ec4-ad042a310c35 div.sk-estimator {font-family: monospace;background-color: #f0f8ff;border: 1px dotted black;border-radius: 0.25em;box-sizing: border-box;margin-bottom: 0.5em;}#sk-d088b45d-b6ce-407f-8ec4-ad042a310c35 div.sk-estimator:hover {background-color: #d4ebff;}#sk-d088b45d-b6ce-407f-8ec4-ad042a310c35 div.sk-parallel-item::after {content: \"\";width: 100%;border-bottom: 1px solid gray;flex-grow: 1;}#sk-d088b45d-b6ce-407f-8ec4-ad042a310c35 div.sk-label:hover label.sk-toggleable__label {background-color: #d4ebff;}#sk-d088b45d-b6ce-407f-8ec4-ad042a310c35 div.sk-serial::before {content: \"\";position: absolute;border-left: 1px solid gray;box-sizing: border-box;top: 2em;bottom: 0;left: 50%;}#sk-d088b45d-b6ce-407f-8ec4-ad042a310c35 div.sk-serial {display: flex;flex-direction: column;align-items: center;background-color: white;padding-right: 0.2em;padding-left: 0.2em;}#sk-d088b45d-b6ce-407f-8ec4-ad042a310c35 div.sk-item {z-index: 1;}#sk-d088b45d-b6ce-407f-8ec4-ad042a310c35 div.sk-parallel {display: flex;align-items: stretch;justify-content: center;background-color: white;}#sk-d088b45d-b6ce-407f-8ec4-ad042a310c35 div.sk-parallel::before {content: \"\";position: absolute;border-left: 1px solid gray;box-sizing: border-box;top: 2em;bottom: 0;left: 50%;}#sk-d088b45d-b6ce-407f-8ec4-ad042a310c35 div.sk-parallel-item {display: flex;flex-direction: column;position: relative;background-color: white;}#sk-d088b45d-b6ce-407f-8ec4-ad042a310c35 div.sk-parallel-item:first-child::after {align-self: flex-end;width: 50%;}#sk-d088b45d-b6ce-407f-8ec4-ad042a310c35 div.sk-parallel-item:last-child::after {align-self: flex-start;width: 50%;}#sk-d088b45d-b6ce-407f-8ec4-ad042a310c35 div.sk-parallel-item:only-child::after {width: 0;}#sk-d088b45d-b6ce-407f-8ec4-ad042a310c35 div.sk-dashed-wrapped {border: 1px dashed gray;margin: 0 0.4em 0.5em 0.4em;box-sizing: border-box;padding-bottom: 0.4em;background-color: white;position: relative;}#sk-d088b45d-b6ce-407f-8ec4-ad042a310c35 div.sk-label label {font-family: monospace;font-weight: bold;background-color: white;display: inline-block;line-height: 1.2em;}#sk-d088b45d-b6ce-407f-8ec4-ad042a310c35 div.sk-label-container {position: relative;z-index: 2;text-align: center;}#sk-d088b45d-b6ce-407f-8ec4-ad042a310c35 div.sk-container {display: inline-block;position: relative;}</style><div id=\"sk-d088b45d-b6ce-407f-8ec4-ad042a310c35\" class\"sk-top-container\"><div class=\"sk-container\"><div class=\"sk-item sk-dashed-wrapped\"><div class=\"sk-label-container\"><div class=\"sk-label sk-toggleable\"><input class=\"sk-toggleable__control sk-hidden--visually\" id=\"88d8bbe4-5ed6-44cd-b6f3-e4df7754b703\" type=\"checkbox\" ><label class=\"sk-toggleable__label\" for=\"88d8bbe4-5ed6-44cd-b6f3-e4df7754b703\">Pipeline</label><div class=\"sk-toggleable__content\"><pre>Pipeline(steps=[('preprocessor',\n",
       "                 ColumnTransformer(transformers=[('cat',\n",
       "                                                  Pipeline(steps=[('onehot',\n",
       "                                                                   OneHotEncoder(handle_unknown='ignore'))]),\n",
       "                                                  Index(['auteur', 'assureur', 'produit'], dtype='object'))])),\n",
       "                ('rfc', RandomForestClassifier())])</pre></div></div></div><div class=\"sk-serial\"><div class=\"sk-item sk-dashed-wrapped\"><div class=\"sk-label-container\"><div class=\"sk-label sk-toggleable\"><input class=\"sk-toggleable__control sk-hidden--visually\" id=\"d4b234d4-591f-4412-b404-5bcac3cb577b\" type=\"checkbox\" ><label class=\"sk-toggleable__label\" for=\"d4b234d4-591f-4412-b404-5bcac3cb577b\">preprocessor: ColumnTransformer</label><div class=\"sk-toggleable__content\"><pre>ColumnTransformer(transformers=[('cat',\n",
       "                                 Pipeline(steps=[('onehot',\n",
       "                                                  OneHotEncoder(handle_unknown='ignore'))]),\n",
       "                                 Index(['auteur', 'assureur', 'produit'], dtype='object'))])</pre></div></div></div><div class=\"sk-parallel\"><div class=\"sk-parallel-item\"><div class=\"sk-item\"><div class=\"sk-label-container\"><div class=\"sk-label sk-toggleable\"><input class=\"sk-toggleable__control sk-hidden--visually\" id=\"01005af8-ffd2-4122-bf93-35f4b4f2b131\" type=\"checkbox\" ><label class=\"sk-toggleable__label\" for=\"01005af8-ffd2-4122-bf93-35f4b4f2b131\">cat</label><div class=\"sk-toggleable__content\"><pre>Index(['auteur', 'assureur', 'produit'], dtype='object')</pre></div></div></div><div class=\"sk-serial\"><div class=\"sk-item\"><div class=\"sk-serial\"><div class=\"sk-item\"><div class=\"sk-estimator sk-toggleable\"><input class=\"sk-toggleable__control sk-hidden--visually\" id=\"cf617bd6-5cdc-40a0-b3a0-e6861d222c1c\" type=\"checkbox\" ><label class=\"sk-toggleable__label\" for=\"cf617bd6-5cdc-40a0-b3a0-e6861d222c1c\">OneHotEncoder</label><div class=\"sk-toggleable__content\"><pre>OneHotEncoder(handle_unknown='ignore')</pre></div></div></div></div></div></div></div></div></div></div><div class=\"sk-item\"><div class=\"sk-estimator sk-toggleable\"><input class=\"sk-toggleable__control sk-hidden--visually\" id=\"2bf76e77-5aae-4b9b-99a2-c15ea64fb0ec\" type=\"checkbox\" ><label class=\"sk-toggleable__label\" for=\"2bf76e77-5aae-4b9b-99a2-c15ea64fb0ec\">RandomForestClassifier</label><div class=\"sk-toggleable__content\"><pre>RandomForestClassifier()</pre></div></div></div></div></div></div></div>"
      ],
      "text/plain": [
       "Pipeline(steps=[('preprocessor',\n",
       "                 ColumnTransformer(transformers=[('cat',\n",
       "                                                  Pipeline(steps=[('onehot',\n",
       "                                                                   OneHotEncoder(handle_unknown='ignore'))]),\n",
       "                                                  Index(['auteur', 'assureur', 'produit'], dtype='object'))])),\n",
       "                ('rfc', RandomForestClassifier())])"
      ]
     },
     "execution_count": 60,
     "metadata": {},
     "output_type": "execute_result"
    }
   ],
   "source": [
    "fitted_RFC_model"
   ]
  },
  {
   "cell_type": "code",
   "execution_count": 61,
   "id": "1f1d7021",
   "metadata": {},
   "outputs": [
    {
     "data": {
      "text/html": [
       "<style>#sk-9f191722-e77f-49e9-9d37-ca248b9ca84c {color: black;background-color: white;}#sk-9f191722-e77f-49e9-9d37-ca248b9ca84c pre{padding: 0;}#sk-9f191722-e77f-49e9-9d37-ca248b9ca84c div.sk-toggleable {background-color: white;}#sk-9f191722-e77f-49e9-9d37-ca248b9ca84c label.sk-toggleable__label {cursor: pointer;display: block;width: 100%;margin-bottom: 0;padding: 0.3em;box-sizing: border-box;text-align: center;}#sk-9f191722-e77f-49e9-9d37-ca248b9ca84c div.sk-toggleable__content {max-height: 0;max-width: 0;overflow: hidden;text-align: left;background-color: #f0f8ff;}#sk-9f191722-e77f-49e9-9d37-ca248b9ca84c div.sk-toggleable__content pre {margin: 0.2em;color: black;border-radius: 0.25em;background-color: #f0f8ff;}#sk-9f191722-e77f-49e9-9d37-ca248b9ca84c input.sk-toggleable__control:checked~div.sk-toggleable__content {max-height: 200px;max-width: 100%;overflow: auto;}#sk-9f191722-e77f-49e9-9d37-ca248b9ca84c div.sk-estimator input.sk-toggleable__control:checked~label.sk-toggleable__label {background-color: #d4ebff;}#sk-9f191722-e77f-49e9-9d37-ca248b9ca84c div.sk-label input.sk-toggleable__control:checked~label.sk-toggleable__label {background-color: #d4ebff;}#sk-9f191722-e77f-49e9-9d37-ca248b9ca84c input.sk-hidden--visually {border: 0;clip: rect(1px 1px 1px 1px);clip: rect(1px, 1px, 1px, 1px);height: 1px;margin: -1px;overflow: hidden;padding: 0;position: absolute;width: 1px;}#sk-9f191722-e77f-49e9-9d37-ca248b9ca84c div.sk-estimator {font-family: monospace;background-color: #f0f8ff;border: 1px dotted black;border-radius: 0.25em;box-sizing: border-box;margin-bottom: 0.5em;}#sk-9f191722-e77f-49e9-9d37-ca248b9ca84c div.sk-estimator:hover {background-color: #d4ebff;}#sk-9f191722-e77f-49e9-9d37-ca248b9ca84c div.sk-parallel-item::after {content: \"\";width: 100%;border-bottom: 1px solid gray;flex-grow: 1;}#sk-9f191722-e77f-49e9-9d37-ca248b9ca84c div.sk-label:hover label.sk-toggleable__label {background-color: #d4ebff;}#sk-9f191722-e77f-49e9-9d37-ca248b9ca84c div.sk-serial::before {content: \"\";position: absolute;border-left: 1px solid gray;box-sizing: border-box;top: 2em;bottom: 0;left: 50%;}#sk-9f191722-e77f-49e9-9d37-ca248b9ca84c div.sk-serial {display: flex;flex-direction: column;align-items: center;background-color: white;padding-right: 0.2em;padding-left: 0.2em;}#sk-9f191722-e77f-49e9-9d37-ca248b9ca84c div.sk-item {z-index: 1;}#sk-9f191722-e77f-49e9-9d37-ca248b9ca84c div.sk-parallel {display: flex;align-items: stretch;justify-content: center;background-color: white;}#sk-9f191722-e77f-49e9-9d37-ca248b9ca84c div.sk-parallel::before {content: \"\";position: absolute;border-left: 1px solid gray;box-sizing: border-box;top: 2em;bottom: 0;left: 50%;}#sk-9f191722-e77f-49e9-9d37-ca248b9ca84c div.sk-parallel-item {display: flex;flex-direction: column;position: relative;background-color: white;}#sk-9f191722-e77f-49e9-9d37-ca248b9ca84c div.sk-parallel-item:first-child::after {align-self: flex-end;width: 50%;}#sk-9f191722-e77f-49e9-9d37-ca248b9ca84c div.sk-parallel-item:last-child::after {align-self: flex-start;width: 50%;}#sk-9f191722-e77f-49e9-9d37-ca248b9ca84c div.sk-parallel-item:only-child::after {width: 0;}#sk-9f191722-e77f-49e9-9d37-ca248b9ca84c div.sk-dashed-wrapped {border: 1px dashed gray;margin: 0 0.4em 0.5em 0.4em;box-sizing: border-box;padding-bottom: 0.4em;background-color: white;position: relative;}#sk-9f191722-e77f-49e9-9d37-ca248b9ca84c div.sk-label label {font-family: monospace;font-weight: bold;background-color: white;display: inline-block;line-height: 1.2em;}#sk-9f191722-e77f-49e9-9d37-ca248b9ca84c div.sk-label-container {position: relative;z-index: 2;text-align: center;}#sk-9f191722-e77f-49e9-9d37-ca248b9ca84c div.sk-container {display: inline-block;position: relative;}</style><div id=\"sk-9f191722-e77f-49e9-9d37-ca248b9ca84c\" class\"sk-top-container\"><div class=\"sk-container\"><div class=\"sk-item sk-dashed-wrapped\"><div class=\"sk-label-container\"><div class=\"sk-label sk-toggleable\"><input class=\"sk-toggleable__control sk-hidden--visually\" id=\"956c8ce8-a1eb-4d9a-ab35-1b99512a1d9b\" type=\"checkbox\" ><label class=\"sk-toggleable__label\" for=\"956c8ce8-a1eb-4d9a-ab35-1b99512a1d9b\">Pipeline</label><div class=\"sk-toggleable__content\"><pre>Pipeline(steps=[('preprocessor',\n",
       "                 ColumnTransformer(transformers=[('cat',\n",
       "                                                  Pipeline(steps=[('onehot',\n",
       "                                                                   OneHotEncoder(handle_unknown='ignore'))]),\n",
       "                                                  Index(['auteur', 'assureur', 'produit'], dtype='object'))])),\n",
       "                ('gbc', GradientBoostingClassifier())])</pre></div></div></div><div class=\"sk-serial\"><div class=\"sk-item sk-dashed-wrapped\"><div class=\"sk-label-container\"><div class=\"sk-label sk-toggleable\"><input class=\"sk-toggleable__control sk-hidden--visually\" id=\"ce16ef91-4b3c-40f0-8cfb-095dce7d8fb5\" type=\"checkbox\" ><label class=\"sk-toggleable__label\" for=\"ce16ef91-4b3c-40f0-8cfb-095dce7d8fb5\">preprocessor: ColumnTransformer</label><div class=\"sk-toggleable__content\"><pre>ColumnTransformer(transformers=[('cat',\n",
       "                                 Pipeline(steps=[('onehot',\n",
       "                                                  OneHotEncoder(handle_unknown='ignore'))]),\n",
       "                                 Index(['auteur', 'assureur', 'produit'], dtype='object'))])</pre></div></div></div><div class=\"sk-parallel\"><div class=\"sk-parallel-item\"><div class=\"sk-item\"><div class=\"sk-label-container\"><div class=\"sk-label sk-toggleable\"><input class=\"sk-toggleable__control sk-hidden--visually\" id=\"84ba8e5d-4506-4e85-a6f4-1fa74661c0ce\" type=\"checkbox\" ><label class=\"sk-toggleable__label\" for=\"84ba8e5d-4506-4e85-a6f4-1fa74661c0ce\">cat</label><div class=\"sk-toggleable__content\"><pre>Index(['auteur', 'assureur', 'produit'], dtype='object')</pre></div></div></div><div class=\"sk-serial\"><div class=\"sk-item\"><div class=\"sk-serial\"><div class=\"sk-item\"><div class=\"sk-estimator sk-toggleable\"><input class=\"sk-toggleable__control sk-hidden--visually\" id=\"b4a52ef9-7430-4073-918e-cc2e42fc25c5\" type=\"checkbox\" ><label class=\"sk-toggleable__label\" for=\"b4a52ef9-7430-4073-918e-cc2e42fc25c5\">OneHotEncoder</label><div class=\"sk-toggleable__content\"><pre>OneHotEncoder(handle_unknown='ignore')</pre></div></div></div></div></div></div></div></div></div></div><div class=\"sk-item\"><div class=\"sk-estimator sk-toggleable\"><input class=\"sk-toggleable__control sk-hidden--visually\" id=\"3af51b0d-45aa-4d87-a54b-2291f0f33c53\" type=\"checkbox\" ><label class=\"sk-toggleable__label\" for=\"3af51b0d-45aa-4d87-a54b-2291f0f33c53\">GradientBoostingClassifier</label><div class=\"sk-toggleable__content\"><pre>GradientBoostingClassifier()</pre></div></div></div></div></div></div></div>"
      ],
      "text/plain": [
       "Pipeline(steps=[('preprocessor',\n",
       "                 ColumnTransformer(transformers=[('cat',\n",
       "                                                  Pipeline(steps=[('onehot',\n",
       "                                                                   OneHotEncoder(handle_unknown='ignore'))]),\n",
       "                                                  Index(['auteur', 'assureur', 'produit'], dtype='object'))])),\n",
       "                ('gbc', GradientBoostingClassifier())])"
      ]
     },
     "execution_count": 61,
     "metadata": {},
     "output_type": "execute_result"
    }
   ],
   "source": [
    "fitted_GBC_model"
   ]
  },
  {
   "cell_type": "code",
   "execution_count": 62,
   "id": "425e0a09",
   "metadata": {},
   "outputs": [],
   "source": [
    "y_prediction_SVC = fitted_SVC_model.predict(X_test)\n",
    "y_prediction_RFC = fitted_RFC_model.predict(X_test)\n",
    "y_prediction_GBC = fitted_GBC_model.predict(X_test)"
   ]
  },
  {
   "cell_type": "code",
   "execution_count": 63,
   "id": "91522ce4",
   "metadata": {},
   "outputs": [
    {
     "name": "stdout",
     "output_type": "stream",
     "text": [
      "SVC model\n",
      "               precision    recall  f1-score   support\n",
      "\n",
      "classe note 1       0.56      0.74      0.64      2195\n",
      "classe note 2       0.36      0.04      0.08      1105\n",
      "classe note 3       1.00      0.00      0.00       990\n",
      "classe note 4       0.29      0.46      0.35      1469\n",
      "classe note 5       0.40      0.51      0.45      1473\n",
      "\n",
      "     accuracy                           0.43      7232\n",
      "    macro avg       0.52      0.35      0.30      7232\n",
      " weighted avg       0.50      0.43      0.37      7232\n",
      "\n",
      "RFC model\n",
      "               precision    recall  f1-score   support\n",
      "\n",
      "classe note 1       0.56      0.74      0.64      2195\n",
      "classe note 2       0.36      0.05      0.09      1105\n",
      "classe note 3       0.12      0.00      0.00       990\n",
      "classe note 4       0.29      0.45      0.35      1469\n",
      "classe note 5       0.40      0.52      0.45      1473\n",
      "\n",
      "     accuracy                           0.43      7232\n",
      "    macro avg       0.35      0.35      0.31      7232\n",
      " weighted avg       0.38      0.43      0.37      7232\n",
      "\n",
      "GBC model\n",
      "               precision    recall  f1-score   support\n",
      "\n",
      "classe note 1       0.56      0.74      0.64      2195\n",
      "classe note 2       0.36      0.04      0.08      1105\n",
      "classe note 3       1.00      0.00      0.00       990\n",
      "classe note 4       0.29      0.46      0.35      1469\n",
      "classe note 5       0.40      0.51      0.45      1473\n",
      "\n",
      "     accuracy                           0.43      7232\n",
      "    macro avg       0.52      0.35      0.30      7232\n",
      " weighted avg       0.50      0.43      0.37      7232\n",
      "\n"
     ]
    }
   ],
   "source": [
    "target_names = ['classe note '+str(i) for i in range(1,6)]\n",
    "print(\"SVC model\")\n",
    "print(classification_report(y_test, y_prediction_SVC, target_names=target_names, zero_division=1))\n",
    "print(\"RFC model\")\n",
    "print(classification_report(y_test, y_prediction_RFC, target_names=target_names, zero_division=1))\n",
    "print(\"GBC model\")\n",
    "print(classification_report(y_test, y_prediction_GBC, target_names=target_names, zero_division=1))\n"
   ]
  },
  {
   "cell_type": "code",
   "execution_count": null,
   "id": "12ee18e6",
   "metadata": {},
   "outputs": [],
   "source": [
    "model = SVC_modelm\n",
    "N, train_score, val_score = learning_curve(\n",
    "                                            model,\n",
    "                                            X_train, y_train,\n",
    "                                            train_sizes = np.linspace(0.1, 1.0, 10),\n",
    "                                            cv=5\n",
    "                                         )"
   ]
  },
  {
   "cell_type": "code",
   "execution_count": 91,
   "id": "43a101d4",
   "metadata": {},
   "outputs": [
    {
     "data": {
      "text/plain": [
       "array([0.40976659, 0.41302631, 0.41610837, 0.41207883, 0.41841976,\n",
       "       0.41836066, 0.42025676, 0.41978283, 0.41990156, 0.42102738])"
      ]
     },
     "execution_count": 91,
     "metadata": {},
     "output_type": "execute_result"
    }
   ],
   "source": [
    "val_score.mean(axis=1)"
   ]
  },
  {
   "cell_type": "code",
   "execution_count": 103,
   "id": "1566f415",
   "metadata": {},
   "outputs": [
    {
     "data": {
      "text/plain": [
       "<matplotlib.legend.Legend at 0x150db1250>"
      ]
     },
     "execution_count": 103,
     "metadata": {},
     "output_type": "execute_result"
    },
    {
     "data": {
      "image/png": "[encoded data removed]",
      "text/plain": [
       "<Figure size 432x288 with 1 Axes>"
      ]
     },
     "metadata": {
      "needs_background": "light"
     },
     "output_type": "display_data"
    }
   ],
   "source": [
    "plt.plot(N, train_score.mean(axis=1), label=\"train\")\n",
    "plt.plot(N, val_score.mean(axis=1), label=\"test\")\n",
    "plt.legend()"
   ]
  }
 ],
 "metadata": {
  "kernelspec": {
   "display_name": "Python 3",
   "language": "python",
   "name": "python3"
  },
  "language_info": {
   "codemirror_mode": {
    "name": "ipython",
    "version": 3
   },
   "file_extension": ".py",
   "mimetype": "text/x-python",
   "name": "python",
   "nbconvert_exporter": "python",
   "pygments_lexer": "ipython3",
   "version": "3.9.9"
  }
 },
 "nbformat": 4,
 "nbformat_minor": 5
}
