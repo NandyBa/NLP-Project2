{
 "cells": [
  {
   "cell_type": "code",
   "execution_count": 6,
   "id": "0c39a0b7",
   "metadata": {},
   "outputs": [],
   "source": [
    "import pandas as pd\n",
    "import numpy as np\n",
    "import matplotlib.pyplot as plt\n",
    "\n",
    "# Model classifiers\n",
    "from sklearn.svm import SVC\n",
    "from sklearn.linear_model import LogisticRegression\n",
    "from sklearn.ensemble import GradientBoostingClassifier\n",
    "from sklearn.ensemble import RandomForestClassifier\n",
    "\n",
    "# Cross validation\n",
    "from sklearn.model_selection import learning_curve\n",
    "\n",
    "# Pipeline\n",
    "from sklearn.pipeline import make_pipeline, Pipeline\n",
    "from sklearn.compose import make_column_selector, make_column_transformer, ColumnTransformer\n",
    "from sklearn.preprocessing import StandardScaler, OneHotEncoder\n",
    "from sklearn.model_selection import train_test_split\n",
    "from sklearn.preprocessing import FunctionTransformer\n",
    "\n",
    "# Scoring\n",
    "from sklearn.metrics import accuracy_score, recall_score, f1_score\n",
    "\n",
    "# Tuning et overfitting\n",
    "from sklearn.model_selection import validation_curve\n",
    "\n",
    "# Rapport de classification\n",
    "from sklearn.metrics import classification_report\n",
    "\n",
    "# Addons\n",
    "from sklearn.metrics import confusion_matrix\n",
    "from matplotlib.colors import ListedColormap\n",
    "\n",
    "# Config\n",
    "from sklearn import set_config\n",
    "set_config(display=\"diagram\") # To show our model diagrams"
   ]
  },
  {
   "cell_type": "code",
   "execution_count": 7,
   "id": "d3fe9462",
   "metadata": {},
   "outputs": [],
   "source": [
    "from sklearn.metrics import mean_squared_error\n",
    "\n",
    "from nltk.corpus import stopwords\n",
    "from nltk import word_tokenize\n",
    "from nltk.stem import SnowballStemmer\n",
    "from sklearn.feature_extraction.text import TfidfVectorizer\n",
    "import re\n",
    "\n",
    "from sklearn.svm import LinearSVC\n",
    "from sklearn.pipeline import Pipeline\n",
    "from sklearn.model_selection import train_test_split\n",
    "from sklearn.feature_selection import SelectKBest, chi2\n",
    "\n",
    "from sklearn.preprocessing import StandardScaler, OneHotEncoder\n",
    "\n",
    "from sklearn.pipeline import FeatureUnion"
   ]
  },
  {
   "cell_type": "code",
   "execution_count": 8,
   "id": "9190b560",
   "metadata": {},
   "outputs": [],
   "source": [
    "df = pd.read_csv('avisassurance_train.csv', sep=';')"
   ]
  },
  {
   "cell_type": "code",
   "execution_count": 9,
   "id": "8f39b7c7",
   "metadata": {},
   "outputs": [],
   "source": [
    "data = df.copy()\n",
    "data = data.dropna(axis=0)"
   ]
  },
  {
   "cell_type": "code",
   "execution_count": 10,
   "id": "878dbbac",
   "metadata": {},
   "outputs": [
    {
     "data": {
      "text/html": [
       "<div>\n",
       "<style scoped>\n",
       "    .dataframe tbody tr th:only-of-type {\n",
       "        vertical-align: middle;\n",
       "    }\n",
       "\n",
       "    .dataframe tbody tr th {\n",
       "        vertical-align: top;\n",
       "    }\n",
       "\n",
       "    .dataframe thead th {\n",
       "        text-align: right;\n",
       "    }\n",
       "</style>\n",
       "<table border=\"1\" class=\"dataframe\">\n",
       "  <thead>\n",
       "    <tr style=\"text-align: right;\">\n",
       "      <th></th>\n",
       "      <th>date</th>\n",
       "      <th>note</th>\n",
       "      <th>auteur</th>\n",
       "      <th>avis</th>\n",
       "      <th>assureur</th>\n",
       "      <th>produit</th>\n",
       "    </tr>\n",
       "  </thead>\n",
       "  <tbody>\n",
       "    <tr>\n",
       "      <th>0</th>\n",
       "      <td>06 septem...</td>\n",
       "      <td>5</td>\n",
       "      <td>brahim--k-131532</td>\n",
       "      <td>Meilleurs assurances, prix, solutions, écoute,...</td>\n",
       "      <td>Direct Assurance</td>\n",
       "      <td>auto</td>\n",
       "    </tr>\n",
       "    <tr>\n",
       "      <th>1</th>\n",
       "      <td>03 mai 20...</td>\n",
       "      <td>4</td>\n",
       "      <td>bernard-g-112497</td>\n",
       "      <td>je suis globalement satisfait , sauf que vous ...</td>\n",
       "      <td>Direct Assurance</td>\n",
       "      <td>auto</td>\n",
       "    </tr>\n",
       "    <tr>\n",
       "      <th>2</th>\n",
       "      <td>21 mars 2...</td>\n",
       "      <td>5</td>\n",
       "      <td>virginie-t-107352</td>\n",
       "      <td>Prix tres abordable plusieurs options s'offren...</td>\n",
       "      <td>Direct Assurance</td>\n",
       "      <td>auto</td>\n",
       "    </tr>\n",
       "    <tr>\n",
       "      <th>3</th>\n",
       "      <td>10 juin 2...</td>\n",
       "      <td>4</td>\n",
       "      <td>boulain-f-116580</td>\n",
       "      <td>je satisfait du service, une réponse très rapi...</td>\n",
       "      <td>L'olivier Assurance</td>\n",
       "      <td>auto</td>\n",
       "    </tr>\n",
       "    <tr>\n",
       "      <th>4</th>\n",
       "      <td>29 janvie...</td>\n",
       "      <td>1</td>\n",
       "      <td>ouaille31-51798</td>\n",
       "      <td>Client depuis plus de 25 ans, très déçu de cet...</td>\n",
       "      <td>Matmut</td>\n",
       "      <td>auto</td>\n",
       "    </tr>\n",
       "    <tr>\n",
       "      <th>...</th>\n",
       "      <td>...</td>\n",
       "      <td>...</td>\n",
       "      <td>...</td>\n",
       "      <td>...</td>\n",
       "      <td>...</td>\n",
       "      <td>...</td>\n",
       "    </tr>\n",
       "    <tr>\n",
       "      <th>24100</th>\n",
       "      <td>22 mars 2...</td>\n",
       "      <td>1</td>\n",
       "      <td>hophop-107522</td>\n",
       "      <td>Assurance moto chez la mutuel des motards en F...</td>\n",
       "      <td>Mutuelle des Motards</td>\n",
       "      <td>moto</td>\n",
       "    </tr>\n",
       "    <tr>\n",
       "      <th>24101</th>\n",
       "      <td>06 décemb...</td>\n",
       "      <td>1</td>\n",
       "      <td>tzl-81680</td>\n",
       "      <td>Même les demandes les plus simples n'aboutisse...</td>\n",
       "      <td>Allianz</td>\n",
       "      <td>habitation</td>\n",
       "    </tr>\n",
       "    <tr>\n",
       "      <th>24102</th>\n",
       "      <td>14 avril ...</td>\n",
       "      <td>1</td>\n",
       "      <td>jmr-72500-110395</td>\n",
       "      <td>En décembre 2019, j'ai souscrit à un contrat C...</td>\n",
       "      <td>Cegema Assurances</td>\n",
       "      <td>sante</td>\n",
       "    </tr>\n",
       "    <tr>\n",
       "      <th>24103</th>\n",
       "      <td>11 juille...</td>\n",
       "      <td>3</td>\n",
       "      <td>cris-77532</td>\n",
       "      <td>Je suis assurer à la gmf depuis plus de 15 ans...</td>\n",
       "      <td>GMF</td>\n",
       "      <td>auto</td>\n",
       "    </tr>\n",
       "    <tr>\n",
       "      <th>24104</th>\n",
       "      <td>19 janvie...</td>\n",
       "      <td>1</td>\n",
       "      <td>jesse-51459</td>\n",
       "      <td>Bonjour\\r\\nMon ami vient de se faire voler sa ...</td>\n",
       "      <td>AMV</td>\n",
       "      <td>moto</td>\n",
       "    </tr>\n",
       "  </tbody>\n",
       "</table>\n",
       "<p>24103 rows × 6 columns</p>\n",
       "</div>"
      ],
      "text/plain": [
       "                                                    date  note  \\\n",
       "0                                           06 septem...     5   \n",
       "1                                           03 mai 20...     4   \n",
       "2                                           21 mars 2...     5   \n",
       "3                                           10 juin 2...     4   \n",
       "4                                           29 janvie...     1   \n",
       "...                                                  ...   ...   \n",
       "24100                                       22 mars 2...     1   \n",
       "24101                                       06 décemb...     1   \n",
       "24102                                       14 avril ...     1   \n",
       "24103                                       11 juille...     3   \n",
       "24104                                       19 janvie...     1   \n",
       "\n",
       "                  auteur                                               avis  \\\n",
       "0       brahim--k-131532  Meilleurs assurances, prix, solutions, écoute,...   \n",
       "1       bernard-g-112497  je suis globalement satisfait , sauf que vous ...   \n",
       "2      virginie-t-107352  Prix tres abordable plusieurs options s'offren...   \n",
       "3       boulain-f-116580  je satisfait du service, une réponse très rapi...   \n",
       "4        ouaille31-51798  Client depuis plus de 25 ans, très déçu de cet...   \n",
       "...                  ...                                                ...   \n",
       "24100      hophop-107522  Assurance moto chez la mutuel des motards en F...   \n",
       "24101          tzl-81680  Même les demandes les plus simples n'aboutisse...   \n",
       "24102   jmr-72500-110395  En décembre 2019, j'ai souscrit à un contrat C...   \n",
       "24103         cris-77532  Je suis assurer à la gmf depuis plus de 15 ans...   \n",
       "24104        jesse-51459  Bonjour\\r\\nMon ami vient de se faire voler sa ...   \n",
       "\n",
       "                   assureur     produit  \n",
       "0          Direct Assurance        auto  \n",
       "1          Direct Assurance        auto  \n",
       "2          Direct Assurance        auto  \n",
       "3       L'olivier Assurance        auto  \n",
       "4                    Matmut        auto  \n",
       "...                     ...         ...  \n",
       "24100  Mutuelle des Motards        moto  \n",
       "24101               Allianz  habitation  \n",
       "24102     Cegema Assurances       sante  \n",
       "24103                   GMF        auto  \n",
       "24104                   AMV        moto  \n",
       "\n",
       "[24103 rows x 6 columns]"
      ]
     },
     "execution_count": 10,
     "metadata": {},
     "output_type": "execute_result"
    }
   ],
   "source": [
    "data"
   ]
  },
  {
   "cell_type": "code",
   "execution_count": 11,
   "id": "84704a82",
   "metadata": {},
   "outputs": [
    {
     "data": {
      "text/plain": [
       "Index(['date', 'note', 'auteur', 'avis', 'assureur', 'produit'], dtype='object')"
      ]
     },
     "execution_count": 11,
     "metadata": {},
     "output_type": "execute_result"
    }
   ],
   "source": [
    "data.columns"
   ]
  },
  {
   "cell_type": "code",
   "execution_count": 12,
   "id": "d8cc09da",
   "metadata": {},
   "outputs": [
    {
     "data": {
      "text/plain": [
       "date        object\n",
       "note         int64\n",
       "auteur      object\n",
       "avis        object\n",
       "assureur    object\n",
       "produit     object\n",
       "dtype: object"
      ]
     },
     "execution_count": 12,
     "metadata": {},
     "output_type": "execute_result"
    }
   ],
   "source": [
    "data.dtypes"
   ]
  },
  {
   "cell_type": "code",
   "execution_count": 13,
   "id": "92b6c628",
   "metadata": {},
   "outputs": [],
   "source": [
    "for col in ['date','avis']:\n",
    "    data[col] = data[col].astype('string')"
   ]
  },
  {
   "cell_type": "code",
   "execution_count": 14,
   "id": "36c825dc",
   "metadata": {},
   "outputs": [],
   "source": [
    "for col in ['auteur', 'assureur', 'produit']:\n",
    "    data[col] = data[col].astype('category')"
   ]
  },
  {
   "cell_type": "code",
   "execution_count": 15,
   "id": "5700d0c4",
   "metadata": {
    "scrolled": false
   },
   "outputs": [
    {
     "data": {
      "text/plain": [
       "date          string\n",
       "note           int64\n",
       "auteur      category\n",
       "avis          string\n",
       "assureur    category\n",
       "produit     category\n",
       "dtype: object"
      ]
     },
     "execution_count": 15,
     "metadata": {},
     "output_type": "execute_result"
    }
   ],
   "source": [
    "data.dtypes"
   ]
  },
  {
   "cell_type": "code",
   "execution_count": 16,
   "id": "5daf8981",
   "metadata": {},
   "outputs": [],
   "source": [
    "def netoyage_text_avis(A):\n",
    "    # on enlève les stopwords et les carractères spéciaux\n",
    "    B = [ i for i in  re.sub(\"[^a-zà-ÿ]\", \" \", str(A)).split() if i not in stop_words_list]\n",
    "    #C = [ i.replace(',','') for i in B]\n",
    "    # On récupère le radical de chaque mot\n",
    "    C = [[fr.stem(word) for word in word_tokenize(B[i])][0] for i in range(len(B))]\n",
    "    # On reconstitue la phrase\n",
    "    D = ' '.join(C)\n",
    "    return D"
   ]
  },
  {
   "cell_type": "code",
   "execution_count": 17,
   "id": "c42d204f",
   "metadata": {},
   "outputs": [],
   "source": [
    "from sklearn.base import TransformerMixin\n",
    "class DebugTransformer(TransformerMixin):\n",
    "    def __init__(self, name):\n",
    "        self.name = name\n",
    "\n",
    "    def transform(self, X):\n",
    "        print(self.name, 'got', X.shape)\n",
    "        return X\n",
    "\n",
    "    def fit(self, X, y=None):\n",
    "        return self"
   ]
  },
  {
   "cell_type": "code",
   "execution_count": 18,
   "id": "3a9feea1",
   "metadata": {},
   "outputs": [],
   "source": [
    "stemmer = SnowballStemmer('french')\n",
    "stop_words_list = stopwords.words(\"french\")\n",
    "fr = SnowballStemmer('french')\n",
    "\n",
    "data['cleaned'] = data['avis'].apply(lambda x: netoyage_text_avis(x))"
   ]
  },
  {
   "cell_type": "code",
   "execution_count": 19,
   "id": "f57e50df",
   "metadata": {},
   "outputs": [],
   "source": [
    "from sklearn.feature_extraction.text import CountVectorizer\n",
    "from sklearn.feature_extraction.text import TfidfTransformer\n"
   ]
  },
  {
   "cell_type": "code",
   "execution_count": 20,
   "id": "a6cbccbe",
   "metadata": {},
   "outputs": [],
   "source": [
    "X =  data.copy().drop(['note','avis','date'], axis=1)\n",
    "y = data.note.copy()"
   ]
  },
  {
   "cell_type": "code",
   "execution_count": 21,
   "id": "143fb196",
   "metadata": {},
   "outputs": [
    {
     "data": {
      "text/html": [
       "<div>\n",
       "<style scoped>\n",
       "    .dataframe tbody tr th:only-of-type {\n",
       "        vertical-align: middle;\n",
       "    }\n",
       "\n",
       "    .dataframe tbody tr th {\n",
       "        vertical-align: top;\n",
       "    }\n",
       "\n",
       "    .dataframe thead th {\n",
       "        text-align: right;\n",
       "    }\n",
       "</style>\n",
       "<table border=\"1\" class=\"dataframe\">\n",
       "  <thead>\n",
       "    <tr style=\"text-align: right;\">\n",
       "      <th></th>\n",
       "      <th>auteur</th>\n",
       "      <th>assureur</th>\n",
       "      <th>produit</th>\n",
       "      <th>cleaned</th>\n",
       "    </tr>\n",
       "  </thead>\n",
       "  <tbody>\n",
       "    <tr>\n",
       "      <th>0</th>\n",
       "      <td>brahim--k-131532</td>\n",
       "      <td>Direct Assurance</td>\n",
       "      <td>auto</td>\n",
       "      <td>eilleur assur prix solut écout rapid recommand...</td>\n",
       "    </tr>\n",
       "    <tr>\n",
       "      <th>1</th>\n",
       "      <td>bernard-g-112497</td>\n",
       "      <td>Direct Assurance</td>\n",
       "      <td>auto</td>\n",
       "      <td>global satisf sauf problem sit internet imposs...</td>\n",
       "    </tr>\n",
       "    <tr>\n",
       "      <th>2</th>\n",
       "      <td>virginie-t-107352</td>\n",
       "      <td>Direct Assurance</td>\n",
       "      <td>auto</td>\n",
       "      <td>rix tre abord plusieur option offrent a comm b...</td>\n",
       "    </tr>\n",
       "    <tr>\n",
       "      <th>3</th>\n",
       "      <td>boulain-f-116580</td>\n",
       "      <td>L'olivier Assurance</td>\n",
       "      <td>auto</td>\n",
       "      <td>satisf servic répons tres rapid servic remerc ...</td>\n",
       "    </tr>\n",
       "    <tr>\n",
       "      <th>4</th>\n",
       "      <td>ouaille31-51798</td>\n",
       "      <td>Matmut</td>\n",
       "      <td>auto</td>\n",
       "      <td>lient depuis plus an tres déçu cet mutuel a pl...</td>\n",
       "    </tr>\n",
       "    <tr>\n",
       "      <th>...</th>\n",
       "      <td>...</td>\n",
       "      <td>...</td>\n",
       "      <td>...</td>\n",
       "      <td>...</td>\n",
       "    </tr>\n",
       "    <tr>\n",
       "      <th>24100</th>\n",
       "      <td>hophop-107522</td>\n",
       "      <td>Mutuelle des Motards</td>\n",
       "      <td>moto</td>\n",
       "      <td>ssuranc moto chez mutuel motard augment enviro...</td>\n",
       "    </tr>\n",
       "    <tr>\n",
       "      <th>24101</th>\n",
       "      <td>tzl-81680</td>\n",
       "      <td>Allianz</td>\n",
       "      <td>habitation</td>\n",
       "      <td>ême demand plus simpl about mpossibl obten att...</td>\n",
       "    </tr>\n",
       "    <tr>\n",
       "      <th>24102</th>\n",
       "      <td>jmr-72500-110395</td>\n",
       "      <td>Cegema Assurances</td>\n",
       "      <td>sante</td>\n",
       "      <td>décembr souscr contrat omplémentair sant arant...</td>\n",
       "    </tr>\n",
       "    <tr>\n",
       "      <th>24103</th>\n",
       "      <td>cris-77532</td>\n",
       "      <td>GMF</td>\n",
       "      <td>auto</td>\n",
       "      <td>e assur gmf depuis plus an cet anné fait vol c...</td>\n",
       "    </tr>\n",
       "    <tr>\n",
       "      <th>24104</th>\n",
       "      <td>jesse-51459</td>\n",
       "      <td>AMV</td>\n",
       "      <td>moto</td>\n",
       "      <td>onjour ami vient fair vol moto cet assur veut ...</td>\n",
       "    </tr>\n",
       "  </tbody>\n",
       "</table>\n",
       "<p>24103 rows × 4 columns</p>\n",
       "</div>"
      ],
      "text/plain": [
       "                  auteur              assureur     produit  \\\n",
       "0       brahim--k-131532      Direct Assurance        auto   \n",
       "1       bernard-g-112497      Direct Assurance        auto   \n",
       "2      virginie-t-107352      Direct Assurance        auto   \n",
       "3       boulain-f-116580   L'olivier Assurance        auto   \n",
       "4        ouaille31-51798                Matmut        auto   \n",
       "...                  ...                   ...         ...   \n",
       "24100      hophop-107522  Mutuelle des Motards        moto   \n",
       "24101          tzl-81680               Allianz  habitation   \n",
       "24102   jmr-72500-110395     Cegema Assurances       sante   \n",
       "24103         cris-77532                   GMF        auto   \n",
       "24104        jesse-51459                   AMV        moto   \n",
       "\n",
       "                                                 cleaned  \n",
       "0      eilleur assur prix solut écout rapid recommand...  \n",
       "1      global satisf sauf problem sit internet imposs...  \n",
       "2      rix tre abord plusieur option offrent a comm b...  \n",
       "3      satisf servic répons tres rapid servic remerc ...  \n",
       "4      lient depuis plus an tres déçu cet mutuel a pl...  \n",
       "...                                                  ...  \n",
       "24100  ssuranc moto chez mutuel motard augment enviro...  \n",
       "24101  ême demand plus simpl about mpossibl obten att...  \n",
       "24102  décembr souscr contrat omplémentair sant arant...  \n",
       "24103  e assur gmf depuis plus an cet anné fait vol c...  \n",
       "24104  onjour ami vient fair vol moto cet assur veut ...  \n",
       "\n",
       "[24103 rows x 4 columns]"
      ]
     },
     "execution_count": 21,
     "metadata": {},
     "output_type": "execute_result"
    }
   ],
   "source": [
    "X"
   ]
  },
  {
   "cell_type": "code",
   "execution_count": 22,
   "id": "f9980f39",
   "metadata": {},
   "outputs": [],
   "source": [
    "X_train, X_test, y_train, y_test = train_test_split(X, y, test_size=0.3, random_state=1)"
   ]
  },
  {
   "cell_type": "code",
   "execution_count": 98,
   "id": "fc950a92",
   "metadata": {},
   "outputs": [],
   "source": [
    "categorical_pipeline = Pipeline(steps=[\n",
    "    ('debug_cat1', DebugTransformer('debug_cat1')),\n",
    "    ( 'onehot',OneHotEncoder(handle_unknown = 'ignore')),\n",
    "    ('debug_cat', DebugTransformer('debug_cat'))\n",
    "])"
   ]
  },
  {
   "cell_type": "code",
   "execution_count": 99,
   "id": "ea106215",
   "metadata": {},
   "outputs": [],
   "source": [
    "#categorical_features =  data.select_dtypes(include=['category']).columns\n",
    "categorical_features = ['auteur', 'assureur', 'produit']\n",
    "nlp_features = ['cleaned']"
   ]
  },
  {
   "cell_type": "code",
   "execution_count": 102,
   "id": "3f450858",
   "metadata": {},
   "outputs": [],
   "source": [
    "from sklearn.linear_model import SGDClassifier\n",
    "pipelineNLP = Pipeline([\n",
    "    ('debug_nlptest1', DebugTransformer('debug_nlptest1')),\n",
    "    ('count', CountVectorizer()),\n",
    "    ('debug_nlptest2', DebugTransformer('debug_nlptest2')),\n",
    "    ('tfid', TfidfTransformer()),\n",
    "    ('debug_nlptest3', DebugTransformer('debug_nlptest3'))\n",
    "])"
   ]
  },
  {
   "cell_type": "code",
   "execution_count": 103,
   "id": "123513e9",
   "metadata": {},
   "outputs": [],
   "source": [
    "categorical_pipeline_CTF = ColumnTransformer([\n",
    "     ('cat', categorical_pipeline, categorical_features),\n",
    "     \n",
    " ]\n",
    ")\n",
    "pipelineNLP_CTF = ColumnTransformer([\n",
    "     ('nlp_pipeline', pipelineNLP, nlp_features)\n",
    "     \n",
    " ]\n",
    ")\n",
    "\n",
    "\n"
   ]
  },
  {
   "cell_type": "code",
   "execution_count": 108,
   "id": "2b7dfc74",
   "metadata": {},
   "outputs": [
    {
     "name": "stdout",
     "output_type": "stream",
     "text": [
      "debug_cat1 got (16872, 3)\n"
     ]
    }
   ],
   "source": [
    "A = categorical_pipeline.fit(X_train[categorical_features])"
   ]
  },
  {
   "cell_type": "code",
   "execution_count": 113,
   "id": "3a69c8c5",
   "metadata": {},
   "outputs": [
    {
     "name": "stdout",
     "output_type": "stream",
     "text": [
      "debug_cat1 got (16872, 3)\n",
      "debug_cat got (16872, 16719)\n"
     ]
    },
    {
     "data": {
      "text/plain": [
       "<16872x16719 sparse matrix of type '<class 'numpy.float64'>'\n",
       "\twith 50616 stored elements in Compressed Sparse Row format>"
      ]
     },
     "execution_count": 113,
     "metadata": {},
     "output_type": "execute_result"
    }
   ],
   "source": [
    "A.transform(X_train[categorical_features])"
   ]
  },
  {
   "cell_type": "code",
   "execution_count": 109,
   "id": "0e7d7e0f",
   "metadata": {},
   "outputs": [
    {
     "name": "stdout",
     "output_type": "stream",
     "text": [
      "debug_nlptest1 got (16872,)\n",
      "debug_nlptest2 got (16872, 14575)\n"
     ]
    }
   ],
   "source": [
    "B = pipelineNLP.fit(X_train['cleaned'])"
   ]
  },
  {
   "cell_type": "code",
   "execution_count": 114,
   "id": "e09305ac",
   "metadata": {},
   "outputs": [
    {
     "name": "stdout",
     "output_type": "stream",
     "text": [
      "debug_nlptest1 got (16872,)\n",
      "debug_nlptest2 got (16872, 14575)\n",
      "debug_nlptest3 got (16872, 14575)\n"
     ]
    },
    {
     "data": {
      "text/plain": [
       "<16872x14575 sparse matrix of type '<class 'numpy.float64'>'\n",
       "\twith 453016 stored elements in Compressed Sparse Row format>"
      ]
     },
     "execution_count": 114,
     "metadata": {},
     "output_type": "execute_result"
    }
   ],
   "source": [
    "B.transform(X_train['cleaned'])"
   ]
  },
  {
   "cell_type": "code",
   "execution_count": null,
   "id": "49193161",
   "metadata": {},
   "outputs": [],
   "source": []
  }
 ],
 "metadata": {
  "kernelspec": {
   "display_name": "Python 3",
   "language": "python",
   "name": "python3"
  },
  "language_info": {
   "codemirror_mode": {
    "name": "ipython",
    "version": 3
   },
   "file_extension": ".py",
   "mimetype": "text/x-python",
   "name": "python",
   "nbconvert_exporter": "python",
   "pygments_lexer": "ipython3",
   "version": "3.9.9"
  }
 },
 "nbformat": 4,
 "nbformat_minor": 5
}
