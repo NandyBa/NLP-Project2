{
 "cells": [
  {
   "attachments": {},
   "cell_type": "markdown",
   "id": "7e5373e6",
   "metadata": {},
   "source": [
    "# Rapport\n",
    "\n",
    "**Nombre de lignes et de colonnes**:\n",
    "\n",
    "    - Trainset: 24105 lignes et 5 colonnes\n",
    "    - Testset: 10331 lignes et 5 colonnes\n",
    "    \n",
    "**Type de variables**:\n",
    "\n",
    "    - variable à prédire:\n",
    "        - note: quatitative discrête / qualitative ordinale (compris entre 1 et 5)\n",
    "    - autres variables du dataset:\n",
    "        - date: date au format date1 (01 janvier 2000) 'suite à une expérience en' date2 (mois année)\n",
    "        - auteur: catégorielle\n",
    "        - avis: test\n",
    "        - assureur: catégorielle\n",
    "        - produit: catégorielle\n",
    "\n",
    "**Nombre de données manquantes**:\n",
    "\n",
    "    - Trainset: 2 lignes comportent des données manquantes\n",
    "    - Testset: 1 lignes comporte des données manquantes.\n",
    "    - Décision : Etant donnée que très très peu de lignes de nos datasets sont NaN je décide de les drop.\n",
    "    \n",
    "    \n",
    "**Analyses des variables**\n",
    "\n",
    "    - assureur:\n",
    "![Analyse-assureurs.png](Analyse-assureurs.png)\n",
    "\n",
    "    - produit:\n",
    "![Analyse-produit.png](Analyse-produit.png)"
   ]
  },
  {
   "cell_type": "code",
   "execution_count": 1,
   "id": "21b0182c",
   "metadata": {},
   "outputs": [],
   "source": [
    "import pandas as pd\n",
    "import numpy as np\n",
    "import matplotlib.pyplot as plt\n",
    "import seaborn as sns"
   ]
  },
  {
   "cell_type": "code",
   "execution_count": 2,
   "id": "62ad6624",
   "metadata": {},
   "outputs": [],
   "source": [
    "data_train = pd.read_csv('avisassurance_train.csv', sep=\";\")\n",
    "data_test = pd.read_csv('avisassurance_test.csv', sep=\";\")"
   ]
  },
  {
   "cell_type": "code",
   "execution_count": 3,
   "id": "6e7be933",
   "metadata": {},
   "outputs": [],
   "source": [
    "df = data_train.copy()\n",
    "df_test = data_test.copy()"
   ]
  },
  {
   "cell_type": "code",
   "execution_count": 4,
   "id": "40ab865c",
   "metadata": {},
   "outputs": [
    {
     "data": {
      "text/html": [
       "<div>\n",
       "<style scoped>\n",
       "    .dataframe tbody tr th:only-of-type {\n",
       "        vertical-align: middle;\n",
       "    }\n",
       "\n",
       "    .dataframe tbody tr th {\n",
       "        vertical-align: top;\n",
       "    }\n",
       "\n",
       "    .dataframe thead th {\n",
       "        text-align: right;\n",
       "    }\n",
       "</style>\n",
       "<table border=\"1\" class=\"dataframe\">\n",
       "  <thead>\n",
       "    <tr style=\"text-align: right;\">\n",
       "      <th></th>\n",
       "      <th>date</th>\n",
       "      <th>note</th>\n",
       "      <th>auteur</th>\n",
       "      <th>avis</th>\n",
       "      <th>assureur</th>\n",
       "      <th>produit</th>\n",
       "    </tr>\n",
       "  </thead>\n",
       "  <tbody>\n",
       "    <tr>\n",
       "      <th>0</th>\n",
       "      <td>06 septem...</td>\n",
       "      <td>5</td>\n",
       "      <td>brahim--k-131532</td>\n",
       "      <td>Meilleurs assurances, prix, solutions, écoute,...</td>\n",
       "      <td>Direct Assurance</td>\n",
       "      <td>auto</td>\n",
       "    </tr>\n",
       "    <tr>\n",
       "      <th>1</th>\n",
       "      <td>03 mai 20...</td>\n",
       "      <td>4</td>\n",
       "      <td>bernard-g-112497</td>\n",
       "      <td>je suis globalement satisfait , sauf que vous ...</td>\n",
       "      <td>Direct Assurance</td>\n",
       "      <td>auto</td>\n",
       "    </tr>\n",
       "    <tr>\n",
       "      <th>2</th>\n",
       "      <td>21 mars 2...</td>\n",
       "      <td>5</td>\n",
       "      <td>virginie-t-107352</td>\n",
       "      <td>Prix tres abordable plusieurs options s'offren...</td>\n",
       "      <td>Direct Assurance</td>\n",
       "      <td>auto</td>\n",
       "    </tr>\n",
       "    <tr>\n",
       "      <th>3</th>\n",
       "      <td>10 juin 2...</td>\n",
       "      <td>4</td>\n",
       "      <td>boulain-f-116580</td>\n",
       "      <td>je satisfait du service, une réponse très rapi...</td>\n",
       "      <td>L'olivier Assurance</td>\n",
       "      <td>auto</td>\n",
       "    </tr>\n",
       "    <tr>\n",
       "      <th>4</th>\n",
       "      <td>29 janvie...</td>\n",
       "      <td>1</td>\n",
       "      <td>ouaille31-51798</td>\n",
       "      <td>Client depuis plus de 25 ans, très déçu de cet...</td>\n",
       "      <td>Matmut</td>\n",
       "      <td>auto</td>\n",
       "    </tr>\n",
       "  </tbody>\n",
       "</table>\n",
       "</div>"
      ],
      "text/plain": [
       "                                                date  note             auteur  \\\n",
       "0                                       06 septem...     5   brahim--k-131532   \n",
       "1                                       03 mai 20...     4   bernard-g-112497   \n",
       "2                                       21 mars 2...     5  virginie-t-107352   \n",
       "3                                       10 juin 2...     4   boulain-f-116580   \n",
       "4                                       29 janvie...     1    ouaille31-51798   \n",
       "\n",
       "                                                avis             assureur  \\\n",
       "0  Meilleurs assurances, prix, solutions, écoute,...     Direct Assurance   \n",
       "1  je suis globalement satisfait , sauf que vous ...     Direct Assurance   \n",
       "2  Prix tres abordable plusieurs options s'offren...     Direct Assurance   \n",
       "3  je satisfait du service, une réponse très rapi...  L'olivier Assurance   \n",
       "4  Client depuis plus de 25 ans, très déçu de cet...               Matmut   \n",
       "\n",
       "  produit  \n",
       "0    auto  \n",
       "1    auto  \n",
       "2    auto  \n",
       "3    auto  \n",
       "4    auto  "
      ]
     },
     "execution_count": 4,
     "metadata": {},
     "output_type": "execute_result"
    }
   ],
   "source": [
    "df.head()"
   ]
  },
  {
   "cell_type": "code",
   "execution_count": 5,
   "id": "0bc1d7eb",
   "metadata": {},
   "outputs": [
    {
     "data": {
      "text/plain": [
       "date        0\n",
       "note        0\n",
       "auteur      1\n",
       "avis        1\n",
       "assureur    0\n",
       "produit     0\n",
       "dtype: int64"
      ]
     },
     "execution_count": 5,
     "metadata": {},
     "output_type": "execute_result"
    }
   ],
   "source": [
    "df.isna().sum()"
   ]
  },
  {
   "cell_type": "code",
   "execution_count": 6,
   "id": "29fceb00",
   "metadata": {},
   "outputs": [
    {
     "data": {
      "text/plain": [
       "(24105, 6)"
      ]
     },
     "execution_count": 6,
     "metadata": {},
     "output_type": "execute_result"
    }
   ],
   "source": [
    "df.shape"
   ]
  },
  {
   "cell_type": "code",
   "execution_count": 7,
   "id": "c42b10e5",
   "metadata": {},
   "outputs": [
    {
     "data": {
      "text/plain": [
       "(24103, 6)"
      ]
     },
     "execution_count": 7,
     "metadata": {},
     "output_type": "execute_result"
    }
   ],
   "source": [
    "df.dropna(axis=0).shape"
   ]
  },
  {
   "cell_type": "code",
   "execution_count": 8,
   "id": "9ee1eb80",
   "metadata": {},
   "outputs": [
    {
     "data": {
      "text/plain": [
       "(10332, 5)"
      ]
     },
     "execution_count": 8,
     "metadata": {},
     "output_type": "execute_result"
    }
   ],
   "source": [
    "df_test.shape"
   ]
  },
  {
   "cell_type": "code",
   "execution_count": 9,
   "id": "f9e15893",
   "metadata": {},
   "outputs": [
    {
     "data": {
      "text/plain": [
       "(10331, 5)"
      ]
     },
     "execution_count": 9,
     "metadata": {},
     "output_type": "execute_result"
    }
   ],
   "source": [
    "df_test.dropna(axis=0).shape"
   ]
  },
  {
   "cell_type": "code",
   "execution_count": 10,
   "id": "0ccb36c9",
   "metadata": {},
   "outputs": [],
   "source": [
    "df = df.dropna(axis=0)\n",
    "df_test = df.dropna(axis=0)"
   ]
  },
  {
   "cell_type": "code",
   "execution_count": 11,
   "id": "d46799f0",
   "metadata": {},
   "outputs": [
    {
     "data": {
      "text/plain": [
       "date        object\n",
       "note         int64\n",
       "auteur      object\n",
       "avis        object\n",
       "assureur    object\n",
       "produit     object\n",
       "dtype: object"
      ]
     },
     "execution_count": 11,
     "metadata": {},
     "output_type": "execute_result"
    }
   ],
   "source": [
    "df.dtypes"
   ]
  },
  {
   "cell_type": "code",
   "execution_count": 12,
   "id": "18127086",
   "metadata": {},
   "outputs": [
    {
     "data": {
      "text/plain": [
       "min    1\n",
       "max    5\n",
       "Name: note, dtype: int64"
      ]
     },
     "execution_count": 12,
     "metadata": {},
     "output_type": "execute_result"
    }
   ],
   "source": [
    "df.note.agg(['min','max'])"
   ]
  },
  {
   "cell_type": "code",
   "execution_count": 13,
   "id": "9e5f4430",
   "metadata": {},
   "outputs": [
    {
     "data": {
      "text/plain": [
       "True"
      ]
     },
     "execution_count": 13,
     "metadata": {},
     "output_type": "execute_result"
    }
   ],
   "source": [
    "df[df.date.str.contains('suite à une expérience en')].shape == df.shape"
   ]
  },
  {
   "cell_type": "code",
   "execution_count": 14,
   "id": "945264a1",
   "metadata": {},
   "outputs": [
    {
     "data": {
      "text/plain": [
       "True"
      ]
     },
     "execution_count": 14,
     "metadata": {},
     "output_type": "execute_result"
    }
   ],
   "source": [
    "df_test[df_test.date.str.contains('suite à une expérience en')].shape == df_test.shape"
   ]
  },
  {
   "cell_type": "markdown",
   "id": "3caa79b1",
   "metadata": {},
   "source": [
    "Note: on vérifie aussi que cela est vrai pour les données de test car on va rediviser la variable date en 2."
   ]
  },
  {
   "cell_type": "markdown",
   "id": "519d6e40",
   "metadata": {},
   "source": [
    "**Observation des variables catégorielles**"
   ]
  },
  {
   "cell_type": "code",
   "execution_count": 15,
   "id": "0b19dde6",
   "metadata": {},
   "outputs": [
    {
     "data": {
      "text/plain": [
       "mikado-50419            4\n",
       "mm-53953                4\n",
       "pj-97010                4\n",
       "tontonbubu-54321        4\n",
       "lotus5-51217            3\n",
       "                       ..\n",
       "elya973-80260           1\n",
       "jean-pierre-s-137446    1\n",
       "sass-117513             1\n",
       "marco14-138660          1\n",
       "jesse-51459             1\n",
       "Name: auteur, Length: 23675, dtype: int64"
      ]
     },
     "execution_count": 15,
     "metadata": {},
     "output_type": "execute_result"
    }
   ],
   "source": [
    "df.auteur.value_counts()"
   ]
  },
  {
   "cell_type": "code",
   "execution_count": 16,
   "id": "f7ba6781",
   "metadata": {},
   "outputs": [
    {
     "data": {
      "text/plain": [
       "array(['Direct Assurance', \"L'olivier Assurance\", 'Matmut',\n",
       "       'Néoliane Santé', 'APRIL', 'SantéVet', 'Mercer', 'Generali',\n",
       "       'Allianz', 'APRIL Moto', 'Cegema Assurances', 'LCL', 'Afer',\n",
       "       'Pacifica', 'SwissLife', 'MAAF', 'Solly Azar', 'GMF', 'AMV',\n",
       "       'CNP Assurances', 'MAIF', 'Sogecap', 'Harmonie Mutuelle',\n",
       "       'Mutuelle des Motards', 'MACIF', 'Eurofil', 'Active Assurances',\n",
       "       'AXA', 'Sogessur', 'Ag2r La Mondiale', 'Mgen', \"Zen'Up\", 'MGP',\n",
       "       'Intériale', 'Génération', 'Cardif', 'Santiane', 'Eca Assurances',\n",
       "       'Groupama', \"Assur O'Poil\", 'MMA', 'MetLife', 'Crédit Mutuel',\n",
       "       'Afi Esca', 'Gan', 'Magnolia', 'Suravenir', 'Assur Bon Plan',\n",
       "       'AssurOnline', 'Carac', 'Mapa', 'Malakoff Humanis',\n",
       "       'Euro-Assurance', 'Peyrac Assurances', 'Sma', 'Hiscox'],\n",
       "      dtype=object)"
      ]
     },
     "execution_count": 16,
     "metadata": {},
     "output_type": "execute_result"
    }
   ],
   "source": [
    "df.assureur.unique()"
   ]
  },
  {
   "cell_type": "code",
   "execution_count": 17,
   "id": "1d0d54c6",
   "metadata": {},
   "outputs": [
    {
     "data": {
      "text/plain": [
       "<AxesSubplot:ylabel='assureur'>"
      ]
     },
     "execution_count": 17,
     "metadata": {},
     "output_type": "execute_result"
    },
    {
     "data": {
      "image/png": "[encoded data removed]",
      "text/plain": [
       "<Figure size 432x288 with 1 Axes>"
      ]
     },
     "metadata": {},
     "output_type": "display_data"
    }
   ],
   "source": [
    "df.assureur.value_counts().plot.pie()"
   ]
  },
  {
   "cell_type": "markdown",
   "id": "7aee00aa",
   "metadata": {},
   "source": [
    "Faisons un pie chart plus lissible."
   ]
  },
  {
   "cell_type": "code",
   "execution_count": 18,
   "id": "84537c03",
   "metadata": {},
   "outputs": [
    {
     "data": {
      "text/plain": [
       "Direct Assurance        0.244617\n",
       "L'olivier Assurance     0.177903\n",
       "APRIL Moto              0.042443\n",
       "GMF                     0.041364\n",
       "Néoliane Santé          0.035722\n",
       "MACIF                   0.034394\n",
       "AMV                     0.028544\n",
       "Santiane                0.027300\n",
       "AXA                     0.026096\n",
       "MAAF                    0.025391\n",
       "MAIF                    0.024520\n",
       "Allianz                 0.023814\n",
       "Pacifica                0.022943\n",
       "Matmut                  0.019666\n",
       "MGP                     0.018504\n",
       "Active Assurances       0.016720\n",
       "Ag2r La Mondiale        0.014521\n",
       "Harmonie Mutuelle       0.012944\n",
       "Eurofil                 0.011990\n",
       "APRIL                   0.011741\n",
       "Mercer                  0.011077\n",
       "Cardif                  0.010994\n",
       "Zen'Up                  0.010165\n",
       "Cegema Assurances       0.008879\n",
       "Génération              0.008796\n",
       "Mgen                    0.008671\n",
       "CNP Assurances          0.006099\n",
       "Crédit Mutuel           0.006057\n",
       "Afer                    0.005974\n",
       "SwissLife               0.005725\n",
       "Eca Assurances          0.005476\n",
       "Mutuelle des Motards    0.005311\n",
       "Generali                0.005311\n",
       "Assur O'Poil            0.004564\n",
       "Groupama                0.004024\n",
       "Sogessur                0.003983\n",
       "SantéVet                0.003983\n",
       "Sogecap                 0.002987\n",
       "Intériale               0.002572\n",
       "MetLife                 0.002199\n",
       "Assur Bon Plan          0.002116\n",
       "Euro-Assurance          0.001784\n",
       "Malakoff Humanis        0.001577\n",
       "Gan                     0.001369\n",
       "Carac                   0.001328\n",
       "Peyrac Assurances       0.001162\n",
       "Suravenir               0.001120\n",
       "Afi Esca                0.001079\n",
       "AssurOnline             0.001037\n",
       "Solly Azar              0.001037\n",
       "Magnolia                0.000788\n",
       "LCL                     0.000747\n",
       "Mapa                    0.000415\n",
       "Sma                     0.000249\n",
       "MMA                     0.000166\n",
       "Hiscox                  0.000041\n",
       "Name: assureur, dtype: float64"
      ]
     },
     "execution_count": 18,
     "metadata": {},
     "output_type": "execute_result"
    }
   ],
   "source": [
    "df.assureur.value_counts(normalize=True).sort_values(ascending=False)"
   ]
  },
  {
   "cell_type": "code",
   "execution_count": 19,
   "id": "b44324e8",
   "metadata": {},
   "outputs": [
    {
     "data": {
      "text/plain": [
       "Index(['Direct Assurance', 'L'olivier Assurance', 'APRIL Moto', 'GMF',\n",
       "       'Néoliane Santé', 'MACIF', 'AMV', 'Santiane', 'AXA', 'MAAF', 'MAIF',\n",
       "       'Allianz', 'Pacifica'],\n",
       "      dtype='object')"
      ]
     },
     "execution_count": 19,
     "metadata": {},
     "output_type": "execute_result"
    }
   ],
   "source": [
    "df.assureur.value_counts(normalize=True).loc[lambda x: x>0.02].index"
   ]
  },
  {
   "cell_type": "code",
   "execution_count": 20,
   "id": "2405b564",
   "metadata": {},
   "outputs": [],
   "source": [
    "def filter_percent_threshold(df, variable, threshold):\n",
    "    df_ = df.copy()\n",
    "    counts = df_[variable].value_counts(normalize=True)\n",
    "    idx = counts[counts.lt(threshold)].index\n",
    "\n",
    "    df_.loc[df_[variable].isin(idx), variable] = 'Autres'\n",
    "    return df_"
   ]
  },
  {
   "cell_type": "code",
   "execution_count": 21,
   "id": "33bb50c5",
   "metadata": {},
   "outputs": [
    {
     "data": {
      "text/plain": [
       "<AxesSubplot:ylabel='assureur'>"
      ]
     },
     "execution_count": 21,
     "metadata": {},
     "output_type": "execute_result"
    },
    {
     "data": {
      "image/png": "[encoded data removed]",
      "text/plain": [
       "<Figure size 432x288 with 1 Axes>"
      ]
     },
     "metadata": {},
     "output_type": "display_data"
    }
   ],
   "source": [
    "df_plot = filter_percent_threshold(df, 'assureur', 0.02)\n",
    "df_plot.assureur.value_counts(normalize=True).plot.pie()\n",
    "#plt.savefig('Analyse-assureurs.png')"
   ]
  },
  {
   "cell_type": "code",
   "execution_count": 22,
   "id": "54eea768",
   "metadata": {},
   "outputs": [
    {
     "data": {
      "text/plain": [
       "array(['auto', 'sante', 'animaux', 'vie', 'moto', 'credit', 'habitation',\n",
       "       'prevoyance', 'responsabilite-civile-professionnelle',\n",
       "       'multirisque-professionnelle', 'assurances-professionnelles',\n",
       "       'garantie-decennale', 'flotte-automobile'], dtype=object)"
      ]
     },
     "execution_count": 22,
     "metadata": {},
     "output_type": "execute_result"
    }
   ],
   "source": [
    "df.produit.unique()"
   ]
  },
  {
   "cell_type": "code",
   "execution_count": 23,
   "id": "349dee89",
   "metadata": {},
   "outputs": [
    {
     "data": {
      "text/plain": [
       "<AxesSubplot:ylabel='produit'>"
      ]
     },
     "execution_count": 23,
     "metadata": {},
     "output_type": "execute_result"
    },
    {
     "data": {
      "image/png": "[encoded data removed]",
      "text/plain": [
       "<Figure size 432x288 with 1 Axes>"
      ]
     },
     "metadata": {},
     "output_type": "display_data"
    }
   ],
   "source": [
    "df_plot = filter_percent_threshold(df, 'produit', 0.02)\n",
    "df_plot.produit.value_counts(normalize=True).plot.pie()\n",
    "#plt.savefig('Analyse-produit.png')"
   ]
  }
 ],
 "metadata": {
  "kernelspec": {
   "display_name": "Python 3",
   "language": "python",
   "name": "python3"
  },
  "language_info": {
   "codemirror_mode": {
    "name": "ipython",
    "version": 3
   },
   "file_extension": ".py",
   "mimetype": "text/x-python",
   "name": "python",
   "nbconvert_exporter": "python",
   "pygments_lexer": "ipython3",
   "version": "3.9.9"
  }
 },
 "nbformat": 4,
 "nbformat_minor": 5
}
