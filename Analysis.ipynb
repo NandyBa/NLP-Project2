{
 "cells": [
  {
   "cell_type": "markdown",
   "id": "eed6bd5a",
   "metadata": {},
   "source": [
    "# Rapport\n",
    "\n",
    "**Nombre de lignes et de colonnes**:\n",
    "\n",
    "    - Trainset: 24105 lignes et 5 colonnes\n",
    "    - Testset: 10331 lignes et 5 colonnes\n",
    "\n",
    "**Nombre de données manquantes**:\n",
    "\n",
    "    - Trainset: 2 lignes comportent des données manquantes\n",
    "    - Testset: 1 lignes comporte des données manquantes.\n",
    "    - Décision : Etant donnée que très très peu de lignes de nos datasets sont NaN je décide de les drop."
   ]
  },
  {
   "cell_type": "code",
   "execution_count": 1,
   "id": "2b7ab477",
   "metadata": {},
   "outputs": [],
   "source": [
    "import pandas as pd\n",
    "import numpy as np\n",
    "import matplotlib.pyplot as plt\n",
    "import seaborn as sns"
   ]
  },
  {
   "cell_type": "code",
   "execution_count": 2,
   "id": "43b93093",
   "metadata": {},
   "outputs": [],
   "source": [
    "data_train = pd.read_csv('avisassurance_train.csv', sep=\";\")\n",
    "data_test = pd.read_csv('avisassurance_test.csv', sep=\";\")"
   ]
  },
  {
   "cell_type": "code",
   "execution_count": 17,
   "id": "ed101eed",
   "metadata": {},
   "outputs": [],
   "source": [
    "df = data_train.copy()\n",
    "df_test = data_test.copy()"
   ]
  },
  {
   "cell_type": "code",
   "execution_count": 4,
   "id": "6fb04e93",
   "metadata": {},
   "outputs": [
    {
     "data": {
      "text/html": [
       "<div>\n",
       "<style scoped>\n",
       "    .dataframe tbody tr th:only-of-type {\n",
       "        vertical-align: middle;\n",
       "    }\n",
       "\n",
       "    .dataframe tbody tr th {\n",
       "        vertical-align: top;\n",
       "    }\n",
       "\n",
       "    .dataframe thead th {\n",
       "        text-align: right;\n",
       "    }\n",
       "</style>\n",
       "<table border=\"1\" class=\"dataframe\">\n",
       "  <thead>\n",
       "    <tr style=\"text-align: right;\">\n",
       "      <th></th>\n",
       "      <th>date</th>\n",
       "      <th>note</th>\n",
       "      <th>auteur</th>\n",
       "      <th>avis</th>\n",
       "      <th>assureur</th>\n",
       "      <th>produit</th>\n",
       "    </tr>\n",
       "  </thead>\n",
       "  <tbody>\n",
       "    <tr>\n",
       "      <th>0</th>\n",
       "      <td>06 septem...</td>\n",
       "      <td>5</td>\n",
       "      <td>brahim--k-131532</td>\n",
       "      <td>Meilleurs assurances, prix, solutions, écoute,...</td>\n",
       "      <td>Direct Assurance</td>\n",
       "      <td>auto</td>\n",
       "    </tr>\n",
       "    <tr>\n",
       "      <th>1</th>\n",
       "      <td>03 mai 20...</td>\n",
       "      <td>4</td>\n",
       "      <td>bernard-g-112497</td>\n",
       "      <td>je suis globalement satisfait , sauf que vous ...</td>\n",
       "      <td>Direct Assurance</td>\n",
       "      <td>auto</td>\n",
       "    </tr>\n",
       "    <tr>\n",
       "      <th>2</th>\n",
       "      <td>21 mars 2...</td>\n",
       "      <td>5</td>\n",
       "      <td>virginie-t-107352</td>\n",
       "      <td>Prix tres abordable plusieurs options s'offren...</td>\n",
       "      <td>Direct Assurance</td>\n",
       "      <td>auto</td>\n",
       "    </tr>\n",
       "    <tr>\n",
       "      <th>3</th>\n",
       "      <td>10 juin 2...</td>\n",
       "      <td>4</td>\n",
       "      <td>boulain-f-116580</td>\n",
       "      <td>je satisfait du service, une réponse très rapi...</td>\n",
       "      <td>L'olivier Assurance</td>\n",
       "      <td>auto</td>\n",
       "    </tr>\n",
       "    <tr>\n",
       "      <th>4</th>\n",
       "      <td>29 janvie...</td>\n",
       "      <td>1</td>\n",
       "      <td>ouaille31-51798</td>\n",
       "      <td>Client depuis plus de 25 ans, très déçu de cet...</td>\n",
       "      <td>Matmut</td>\n",
       "      <td>auto</td>\n",
       "    </tr>\n",
       "  </tbody>\n",
       "</table>\n",
       "</div>"
      ],
      "text/plain": [
       "                                                date  note             auteur  \\\n",
       "0                                       06 septem...     5   brahim--k-131532   \n",
       "1                                       03 mai 20...     4   bernard-g-112497   \n",
       "2                                       21 mars 2...     5  virginie-t-107352   \n",
       "3                                       10 juin 2...     4   boulain-f-116580   \n",
       "4                                       29 janvie...     1    ouaille31-51798   \n",
       "\n",
       "                                                avis             assureur  \\\n",
       "0  Meilleurs assurances, prix, solutions, écoute,...     Direct Assurance   \n",
       "1  je suis globalement satisfait , sauf que vous ...     Direct Assurance   \n",
       "2  Prix tres abordable plusieurs options s'offren...     Direct Assurance   \n",
       "3  je satisfait du service, une réponse très rapi...  L'olivier Assurance   \n",
       "4  Client depuis plus de 25 ans, très déçu de cet...               Matmut   \n",
       "\n",
       "  produit  \n",
       "0    auto  \n",
       "1    auto  \n",
       "2    auto  \n",
       "3    auto  \n",
       "4    auto  "
      ]
     },
     "execution_count": 4,
     "metadata": {},
     "output_type": "execute_result"
    }
   ],
   "source": [
    "df.head()"
   ]
  },
  {
   "cell_type": "code",
   "execution_count": 10,
   "id": "35a57887",
   "metadata": {},
   "outputs": [
    {
     "data": {
      "text/plain": [
       "date        0\n",
       "note        0\n",
       "auteur      1\n",
       "avis        1\n",
       "assureur    0\n",
       "produit     0\n",
       "dtype: int64"
      ]
     },
     "execution_count": 10,
     "metadata": {},
     "output_type": "execute_result"
    }
   ],
   "source": [
    "df.isna().sum()"
   ]
  },
  {
   "cell_type": "code",
   "execution_count": 13,
   "id": "48c9367d",
   "metadata": {},
   "outputs": [
    {
     "data": {
      "text/plain": [
       "(24105, 6)"
      ]
     },
     "execution_count": 13,
     "metadata": {},
     "output_type": "execute_result"
    }
   ],
   "source": [
    "df.shape"
   ]
  },
  {
   "cell_type": "code",
   "execution_count": 14,
   "id": "4a44ed4f",
   "metadata": {},
   "outputs": [
    {
     "data": {
      "text/plain": [
       "(24103, 6)"
      ]
     },
     "execution_count": 14,
     "metadata": {},
     "output_type": "execute_result"
    }
   ],
   "source": [
    "df.dropna(axis=0).shape"
   ]
  },
  {
   "cell_type": "code",
   "execution_count": 15,
   "id": "69d5dd8f",
   "metadata": {},
   "outputs": [],
   "source": [
    "def prepross(df):\n",
    "    df = df.dropna(axis=0)\n",
    "    return df"
   ]
  },
  {
   "cell_type": "code",
   "execution_count": 18,
   "id": "9b41d24e",
   "metadata": {},
   "outputs": [
    {
     "data": {
      "text/plain": [
       "(10332, 5)"
      ]
     },
     "execution_count": 18,
     "metadata": {},
     "output_type": "execute_result"
    }
   ],
   "source": [
    "df_test.shape"
   ]
  },
  {
   "cell_type": "code",
   "execution_count": 19,
   "id": "4e42ca99",
   "metadata": {},
   "outputs": [
    {
     "data": {
      "text/plain": [
       "(10331, 5)"
      ]
     },
     "execution_count": 19,
     "metadata": {},
     "output_type": "execute_result"
    }
   ],
   "source": [
    "df_test.dropna(axis=0).shape"
   ]
  }
 ],
 "metadata": {
  "kernelspec": {
   "display_name": "Python 3",
   "language": "python",
   "name": "python3"
  },
  "language_info": {
   "codemirror_mode": {
    "name": "ipython",
    "version": 3
   },
   "file_extension": ".py",
   "mimetype": "text/x-python",
   "name": "python",
   "nbconvert_exporter": "python",
   "pygments_lexer": "ipython3",
   "version": "3.9.9"
  }
 },
 "nbformat": 4,
 "nbformat_minor": 5
}
